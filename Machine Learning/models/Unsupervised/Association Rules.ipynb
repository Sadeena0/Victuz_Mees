{
 "cells": [
  {
   "cell_type": "code",
   "id": "initial_id",
   "metadata": {
    "collapsed": true
   },
   "source": [
    "import pandas as pd\n",
    "from feature_selectors import *\n",
    "from mlxtend.frequent_patterns import apriori, association_rules"
   ],
   "outputs": [],
   "execution_count": null
  },
  {
   "metadata": {},
   "cell_type": "code",
   "source": [
    "gebruikers_df = pd.read_csv(r'..\\..\\data\\gebruikersinformatie.csv', delimiter = ';')\n",
    "evenement_df = pd.read_csv(r'..\\..\\data\\evenementinformatie.csv', delimiter = ';')\n",
    "aanwezigheid_df = pd.read_csv(r'..\\..\\data\\evenementaanwezigheid.csv', delimiter = ';')\n",
    "bericht_df = pd.read_csv(r'..\\..\\data\\berichtinteracties_met_sentiment.csv', delimiter = ';')"
   ],
   "id": "38df443658414804",
   "outputs": [],
   "execution_count": null
  },
  {
   "metadata": {},
   "cell_type": "code",
   "source": [
    "df = merge_on_all(bericht_df, evenement_df, gebruikers_df, aanwezigheid_df)\n",
    "# df = merge_on_aanwezigheid(aanwezigheid_df, evenement_df, gebruikers_df)\n",
    "# df = merge_on_bericht(bericht_df, evenement_df, gebruikers_df)\n",
    "\n",
    "df"
   ],
   "id": "efd43159ceed35ab",
   "outputs": [],
   "execution_count": null
  },
  {
   "metadata": {},
   "cell_type": "code",
   "source": [
    "# Remove nonvalid entries\n",
    "for col in df.columns:\n",
    "    df = df[~(df[col].isna())]\n",
    "\n",
    "df = df[~(df['Gebruiker_Lidmaatschapstype'] == 'x')]\n",
    "df"
   ],
   "id": "f173359c68efe255",
   "outputs": [],
   "execution_count": null
  },
  {
   "metadata": {},
   "cell_type": "code",
   "source": [
    "# Convert ID to ints\n",
    "to_convert = [\"BerichtID\", \"EvenementID\", \"GebruikerID\", \"Evenement_OrganisatorID\"]\n",
    "\n",
    "for col in to_convert:\n",
    "    if col in df.columns:\n",
    "        df[col] = df[col].str[1:].astype(int)\n",
    "    \n",
    "df"
   ],
   "id": "13599a8bb80b45dd",
   "outputs": [],
   "execution_count": null
  },
  {
   "metadata": {},
   "cell_type": "code",
   "source": [
    "# Convert columns to datetime datatype\n",
    "date_columns = ['BerichtDatum', 'Evenement_EvenementDatum', 'Gebruiker_RegistratieDatum', 'Gebruiker_LaatsteLogin']\n",
    "\n",
    "for col in date_columns:\n",
    "    if col in df.columns:\n",
    "        df[col] = pd.to_datetime(df[col], dayfirst = True)\n",
    "    \n",
    "df"
   ],
   "id": "9d3611a69d2a8e89",
   "outputs": [],
   "execution_count": null
  },
  {
   "metadata": {},
   "cell_type": "code",
   "source": [
    "dummies_df = pd.DataFrame()\n",
    "\n",
    "# Object (string) columns\n",
    "for col in df.select_dtypes(include = ['object']).columns:\n",
    "    dummies_df = pd.concat([dummies_df, pd.get_dummies(df[col], prefix = col)], axis = 1)\n",
    "\n",
    "# DateTime columns\n",
    "for col in df.select_dtypes(include = ['datetime']).columns:\n",
    "    dummies_df[f'{col}_is_weekend'] = df[col].dt.weekday >= 5\n",
    "    dummies_df = pd.concat([dummies_df, pd.get_dummies(df[col].dt.month_name(), prefix = f'{col}_month')], axis = 1)\n",
    "\n",
    "# Numeric columns\n",
    "for col in df.select_dtypes(include = ['int64', 'float64']).columns:\n",
    "    dummies_df[f'High_{col}'] = df[col] > df[col].mode()[0]\n",
    "    dummies_df[f'Low_{col}'] = df[col] < df[col].mode()[0]\n",
    "\n",
    "dummies_df"
   ],
   "id": "468809dccedec6aa",
   "outputs": [],
   "execution_count": null
  },
  {
   "metadata": {},
   "cell_type": "code",
   "source": [
    "# Create frequent itemsets and association rules\n",
    "freq_itemsets = apriori(dummies_df, min_support = 0.1, use_colnames = True)\n",
    "association_rules(freq_itemsets, metric = 'lift', min_threshold = 1.25)"
   ],
   "id": "83282e71a90e1449",
   "outputs": [],
   "execution_count": null
  }
 ],
 "metadata": {
  "kernelspec": {
   "display_name": "Python 3",
   "language": "python",
   "name": "python3"
  },
  "language_info": {
   "codemirror_mode": {
    "name": "ipython",
    "version": 2
   },
   "file_extension": ".py",
   "mimetype": "text/x-python",
   "name": "python",
   "nbconvert_exporter": "python",
   "pygments_lexer": "ipython2",
   "version": "2.7.6"
  }
 },
 "nbformat": 4,
 "nbformat_minor": 5
}
