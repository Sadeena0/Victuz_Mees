{
 "cells": [
  {
   "cell_type": "code",
   "id": "initial_id",
   "metadata": {
    "collapsed": true
   },
   "source": [
    "import pandas as pd\n",
    "import numpy as np\n",
    "from matplotlib import pyplot as plt\n",
    "from sklearn.preprocessing import StandardScaler\n",
    "from sklearn.cluster import KMeans\n",
    "from kneed import KneeLocator\n",
    "from feature_selectors import *\n",
    "\n",
    "# # Suppress the specific warning\n",
    "# import warnings\n",
    "# \n",
    "# warnings.filterwarnings(\"ignore\", category = UserWarning)"
   ],
   "outputs": [],
   "execution_count": null
  },
  {
   "metadata": {},
   "cell_type": "code",
   "source": [
    "gebruikers_df = pd.read_csv(r'..\\..\\..\\data\\gebruikersinformatie.csv', delimiter = ';')\n",
    "evenement_df = pd.read_csv(r'..\\..\\..\\data\\evenementinformatie.csv', delimiter = ';')\n",
    "aanwezigheid_df = pd.read_csv(r'..\\..\\..\\data\\evenementaanwezigheid.csv', delimiter = ';')\n",
    "bericht_df = pd.read_csv(r'..\\..\\..\\data\\berichtinteracties_met_sentiment.csv', delimiter = ';')"
   ],
   "id": "9a50291f38823ab6",
   "outputs": [],
   "execution_count": null
  },
  {
   "metadata": {},
   "cell_type": "code",
   "source": [
    "# df = merge_on_all(bericht_df, evenement_df, gebruikers_df, aanwezigheid_df)\n",
    "df = merge_on_aanwezigheid(aanwezigheid_df, evenement_df, gebruikers_df)\n",
    "# df = merge_on_bericht(bericht_df, evenement_df, gebruikers_df)\n",
    "\n",
    "df"
   ],
   "id": "d84af57e11215256",
   "outputs": [],
   "execution_count": null
  },
  {
   "metadata": {},
   "cell_type": "code",
   "source": [
    "# Remove nonvalid entries\n",
    "for col in df.columns:\n",
    "    df = df[~(df[col].isna())]\n",
    "\n",
    "df = df[~(df['Gebruiker_Lidmaatschapstype'] == 'x')]\n",
    "df"
   ],
   "id": "6ea60407f0c59e66",
   "outputs": [],
   "execution_count": null
  },
  {
   "metadata": {},
   "cell_type": "code",
   "source": [
    "# Convert ID to ints\n",
    "to_convert = [\"BerichtID\", \"EvenementID\", \"GebruikerID\", \"Evenement_OrganisatorID\"]\n",
    "\n",
    "for col in to_convert:\n",
    "    if col in df.columns:\n",
    "        df[col] = df[col].str[1:].astype(int)\n",
    "    \n",
    "df"
   ],
   "id": "c41a94cca86a65fd",
   "outputs": [],
   "execution_count": null
  },
  {
   "metadata": {},
   "cell_type": "code",
   "source": [
    "# Convert columns to days since earliest date\n",
    "date_columns = ['BerichtDatum', 'Evenement_EvenementDatum', 'Gebruiker_RegistratieDatum', 'Gebruiker_LaatsteLogin']\n",
    "\n",
    "for col in date_columns:\n",
    "    if col in df.columns:\n",
    "        df[col] = pd.to_datetime(df[col], dayfirst = True)\n",
    "        df[col] = (df[col] - df[col].min()).dt.total_seconds() / (24 * 3600)\n",
    "\n",
    "df"
   ],
   "id": "d2b6ffce63cf7cdf",
   "outputs": [],
   "execution_count": null
  },
  {
   "metadata": {},
   "cell_type": "code",
   "source": [
    "# Factorize studiejaar with map\n",
    "df[\"Gebruiker_Studiejaar\"] = df[\"Gebruiker_Studiejaar\"].map({\n",
    "    \"eerstejaars\": 1,\n",
    "    \"tweedejaars\": 2,\n",
    "    \"derdejaars\": 3,\n",
    "    \"vierdejaars\": 4\n",
    "})\n",
    "\n",
    "# Object (string) columns\n",
    "for col in df.select_dtypes(include = ['object']).columns:\n",
    "    df[col], unique_values = pd.factorize(df[col])\n",
    "\n",
    "    print(f\"\\n{col} numerics:\")\n",
    "    for i, value in enumerate(unique_values):\n",
    "        print(f\"{i} -> {value}\")\n",
    "        \n",
    "# # Change range from -1 (negatief) to 1 (positief)\n",
    "# df['BerichtSentiment'] = df['BerichtSentiment'].replace(2, -1)\n",
    "\n",
    "# Aanwezigheidsstatus (1 = aanwezig, 0 = afwezig)\n",
    "df['Aanwezigheidsstatus'] = ~df['Aanwezigheidsstatus'].replace(2, 1).astype('bool', )\n",
    "\n",
    "df"
   ],
   "id": "b52dbe98a20b407e",
   "outputs": [],
   "execution_count": null
  },
  {
   "metadata": {},
   "cell_type": "code",
   "source": [
    "# Define predictors (dimensions)\n",
    "predictors = df.columns.tolist()\n",
    "# predictors.remove('BerichtID')\n",
    "predictors.remove('GebruikerID')\n",
    "predictors.remove('EvenementID')\n",
    "predictors.remove('Evenement_OrganisatorID')"
   ],
   "id": "c266e80168fe22f6",
   "outputs": [],
   "execution_count": null
  },
  {
   "metadata": {},
   "cell_type": "code",
   "source": [
    "# Scale data\n",
    "scaler = StandardScaler()\n",
    "\n",
    "scaled_data = scaler.fit_transform(df[predictors])\n",
    "scaled_df = pd.DataFrame(scaled_data, columns = predictors)"
   ],
   "id": "a1b66f8c5ac9b485",
   "outputs": [],
   "execution_count": null
  },
  {
   "metadata": {},
   "cell_type": "code",
   "source": [
    "states = 100\n",
    "max_n = 10 # Best N is afhankelijk van max_n? i am confusion\n",
    "best_n_frequency = {}\n",
    "\n",
    "# For each randomstate\n",
    "for state in range(states):\n",
    "    # Save score on each N\n",
    "    inertias = [KMeans(n_clusters = n, random_state = state).fit(scaled_df).inertia_ for n in range(1, max_n)]\n",
    "\n",
    "    # Determine N with best score\n",
    "    knee_locator = KneeLocator(range(1, max_n), inertias, curve = \"convex\", direction = \"decreasing\")\n",
    "    best_n = knee_locator.knee\n",
    "\n",
    "    # Add a frequency point to that N\n",
    "    best_n_frequency[best_n] = best_n_frequency.get(best_n, 0) + 1\n",
    "\n",
    "# Determine most frequent best N\n",
    "most_frequent_best_n = max(best_n_frequency, key = best_n_frequency.get)\n",
    "\n",
    "# Plot results\n",
    "print(f'Most frequent best K: {most_frequent_best_n}')\n",
    "plt.bar(best_n_frequency.keys(), best_n_frequency.values())\n",
    "plt.xlabel('N')\n",
    "plt.ylabel('Frequency')\n",
    "plt.show()\n",
    "\n",
    "# Train model one last time with most frequent best N\n",
    "kmeans = KMeans(n_clusters = most_frequent_best_n, random_state = 0).fit(scaled_df)"
   ],
   "id": "cb547e295e7d883c",
   "outputs": [],
   "execution_count": null
  },
  {
   "metadata": {},
   "cell_type": "code",
   "source": [
    "# Showing distribution of cluster sizes\n",
    "unique_clusters, counts = np.unique(kmeans.labels_, return_counts = True)\n",
    "\n",
    "print(\"\\nCluster Size Distribution:\")\n",
    "for cluster, count in zip(unique_clusters, counts):\n",
    "    print(f\"Cluster {cluster}: {count} entries\")"
   ],
   "id": "920a97a0f5ba69a0",
   "outputs": [],
   "execution_count": null
  }
 ],
 "metadata": {
  "kernelspec": {
   "display_name": "Python 3",
   "language": "python",
   "name": "python3"
  },
  "language_info": {
   "codemirror_mode": {
    "name": "ipython",
    "version": 2
   },
   "file_extension": ".py",
   "mimetype": "text/x-python",
   "name": "python",
   "nbconvert_exporter": "python",
   "pygments_lexer": "ipython2",
   "version": "2.7.6"
  }
 },
 "nbformat": 4,
 "nbformat_minor": 5
}
