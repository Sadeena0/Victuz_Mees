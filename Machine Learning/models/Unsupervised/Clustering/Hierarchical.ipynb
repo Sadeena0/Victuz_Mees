{
 "cells": [
  {
   "cell_type": "code",
   "id": "initial_id",
   "metadata": {
    "collapsed": true
   },
   "source": [
    "import pandas as pd\n",
    "import numpy as np\n",
    "from matplotlib import pyplot as plt\n",
    "from sklearn.preprocessing import StandardScaler\n",
    "from sklearn.cluster import AgglomerativeClustering\n",
    "from scipy.cluster.hierarchy import dendrogram, linkage\n",
    "from sklearn.metrics import silhouette_score\n",
    "from feature_selectors import *"
   ],
   "outputs": [],
   "execution_count": null
  },
  {
   "metadata": {},
   "cell_type": "code",
   "source": [
    "gebruikers_df = pd.read_csv(r'..\\..\\..\\data\\gebruikersinformatie.csv', delimiter = ';')\n",
    "evenement_df = pd.read_csv(r'..\\..\\..\\data\\evenementinformatie.csv', delimiter = ';')\n",
    "aanwezigheid_df = pd.read_csv(r'..\\..\\..\\data\\evenementaanwezigheid.csv', delimiter = ';')\n",
    "bericht_df = pd.read_csv(r'..\\..\\..\\data\\berichtinteracties_met_sentiment.csv', delimiter = ';')"
   ],
   "id": "9a50291f38823ab6",
   "outputs": [],
   "execution_count": null
  },
  {
   "metadata": {},
   "cell_type": "code",
   "source": [
    "# df = merge_on_all(bericht_df, evenement_df, gebruikers_df, aanwezigheid_df)\n",
    "df = merge_on_aanwezigheid(aanwezigheid_df, evenement_df, gebruikers_df)\n",
    "# df = merge_on_bericht(bericht_df, evenement_df, gebruikers_df)\n",
    "\n",
    "df"
   ],
   "id": "d84af57e11215256",
   "outputs": [],
   "execution_count": null
  },
  {
   "metadata": {},
   "cell_type": "code",
   "source": [
    "# Remove nonvalid entries\n",
    "for col in df.columns:\n",
    "    df = df[~(df[col].isna())]\n",
    "\n",
    "df = df[~(df['Gebruiker_Lidmaatschapstype'] == 'x')]\n",
    "df"
   ],
   "id": "6ea60407f0c59e66",
   "outputs": [],
   "execution_count": null
  },
  {
   "metadata": {},
   "cell_type": "code",
   "source": [
    "# Convert ID to ints\n",
    "to_convert = [\"BerichtID\", \"EvenementID\", \"GebruikerID\", \"Evenement_OrganisatorID\"]\n",
    "\n",
    "for col in to_convert:\n",
    "    if col in df.columns:\n",
    "        df[col] = df[col].str[1:].astype(int)\n",
    "    \n",
    "df"
   ],
   "id": "c41a94cca86a65fd",
   "outputs": [],
   "execution_count": null
  },
  {
   "metadata": {},
   "cell_type": "code",
   "source": [
    "# Convert columns to days since earliest date\n",
    "date_columns = ['BerichtDatum', 'Evenement_EvenementDatum', 'Gebruiker_RegistratieDatum', 'Gebruiker_LaatsteLogin']\n",
    "\n",
    "for col in date_columns:\n",
    "    if col in df.columns:\n",
    "        df[col] = pd.to_datetime(df[col], dayfirst = True)\n",
    "        df[col] = (df[col] - df[col].min()).dt.total_seconds() / (24 * 3600)\n",
    "\n",
    "df"
   ],
   "id": "d2b6ffce63cf7cdf",
   "outputs": [],
   "execution_count": null
  },
  {
   "metadata": {},
   "cell_type": "code",
   "source": [
    "# Factorize studiejaar with map\n",
    "df[\"Gebruiker_Studiejaar\"] = df[\"Gebruiker_Studiejaar\"].map({\n",
    "    \"eerstejaars\": 1,\n",
    "    \"tweedejaars\": 2,\n",
    "    \"derdejaars\": 3,\n",
    "    \"vierdejaars\": 4\n",
    "})\n",
    "\n",
    "# Object (string) columns\n",
    "for col in df.select_dtypes(include = ['object']).columns:\n",
    "    df[col], unique_values = pd.factorize(df[col])\n",
    "\n",
    "    print(f\"\\n{col} numerics:\")\n",
    "    for i, value in enumerate(unique_values):\n",
    "        print(f\"{i} -> {value}\")\n",
    "\n",
    "# Aanwezigheidsstatus (1 = afwezig, 0 = aanwezig)\n",
    "df['Aanwezigheidsstatus'] = ~df['Aanwezigheidsstatus'].replace(2, 1).astype('bool', )\n",
    "\n",
    "# # Change range from -1 (negatief) to 1 (positief)\n",
    "# df['BerichtSentiment'] = df['BerichtSentiment'].replace(2, -1)\n",
    "\n",
    "df"
   ],
   "id": "b52dbe98a20b407e",
   "outputs": [],
   "execution_count": null
  },
  {
   "metadata": {},
   "cell_type": "code",
   "source": [
    "# Define predictors (dimensions)\n",
    "predictors = df.columns.tolist()\n",
    "# predictors.remove('BerichtID')\n",
    "predictors.remove('GebruikerID')\n",
    "predictors.remove('EvenementID')\n",
    "predictors.remove('Evenement_OrganisatorID')"
   ],
   "id": "c266e80168fe22f6",
   "outputs": [],
   "execution_count": null
  },
  {
   "metadata": {},
   "cell_type": "code",
   "source": [
    "# Scale data\n",
    "scaler = StandardScaler()\n",
    "\n",
    "scaled_data = scaler.fit_transform(df[predictors])\n",
    "scaled_df = pd.DataFrame(scaled_data, columns = predictors)"
   ],
   "id": "a1b66f8c5ac9b485",
   "outputs": [],
   "execution_count": null
  },
  {
   "metadata": {},
   "cell_type": "code",
   "source": [
    "from sklearn.model_selection import train_test_split\n",
    "\n",
    "x = scaled_df[predictors]\n",
    "\n",
    "train_x, test_x = train_test_split(x, train_size = 0.9, shuffle = True, random_state = 0)"
   ],
   "id": "dce27d1cabe63d96",
   "outputs": [],
   "execution_count": null
  },
  {
   "metadata": {},
   "cell_type": "code",
   "source": [
    "# Silhouette Scores (to find the best number of clusters)\n",
    "sil_scores = []\n",
    "n_range = range(2, 50)\n",
    "\n",
    "# For each N\n",
    "for n in n_range:\n",
    "    # Save silhouette score on N\n",
    "    prediction = AgglomerativeClustering(n_clusters = n, linkage = 'ward').fit_predict(train_x)\n",
    "    sil_scores.append(silhouette_score(train_x, prediction))\n",
    "\n",
    "# Determine N with the highest score\n",
    "best_n_clusters = n_range[np.argmax(sil_scores)]\n",
    "print(f'Optimal number of clusters (based on silhouette score): {best_n_clusters}')\n",
    "\n",
    "# Plot results\n",
    "plt.plot(n_range, sil_scores, marker = 'o')\n",
    "plt.axvline(x = n_range[np.argmax(sil_scores)], color = 'red', linestyle = '--')\n",
    "plt.xlabel('N')\n",
    "plt.ylabel('Silhouette Score')\n",
    "plt.show()"
   ],
   "id": "d21f5d434c46a41a",
   "outputs": [],
   "execution_count": null
  },
  {
   "metadata": {},
   "cell_type": "code",
   "source": [
    "# Manually read best N clusters\n",
    "best_n_clusters = 23"
   ],
   "id": "c6387760c2c298f",
   "outputs": [],
   "execution_count": null
  },
  {
   "metadata": {},
   "cell_type": "code",
   "source": [
    "# Plotting the dendrogram and the cutoff line at the best merge distance\n",
    "plt.figure(figsize = (13, 5))\n",
    "\n",
    "link = linkage(train_x, method = 'ward')\n",
    "\n",
    "# Distance just before forming best_n_clusters\n",
    "best_merge_distance = link[-(best_n_clusters - 1), 2]\n",
    "\n",
    "dendrogram(\n",
    "    link,\n",
    "    # labels = df['name'].values,\n",
    "    color_threshold = best_merge_distance\n",
    ")\n",
    "\n",
    "# Plot a horizontal line at the best merge distance\n",
    "plt.axhline(y = best_merge_distance, color = 'r', linestyle = '--')\n",
    "\n",
    "plt.xlabel('Index')\n",
    "plt.ylabel('Distance')\n",
    "plt.show()"
   ],
   "id": "ff052ff4e22b1286",
   "outputs": [],
   "execution_count": null
  },
  {
   "metadata": {},
   "cell_type": "code",
   "source": [
    "# Train model one last time based on best N clusters\n",
    "model = AgglomerativeClustering(n_clusters = best_n_clusters, linkage = 'ward').fit(train_x)"
   ],
   "id": "5f4fc2492ccff39",
   "outputs": [],
   "execution_count": null
  },
  {
   "metadata": {},
   "cell_type": "code",
   "source": [
    "#Showing distribution of cluster sizes\n",
    "unique_clusters, counts = np.unique(model.labels_, return_counts = True)\n",
    "\n",
    "print(\"\\nCluster Size Distribution:\")\n",
    "for cluster, count in zip(unique_clusters, counts):\n",
    "    print(f\"Cluster {cluster}: {count} entries\")"
   ],
   "id": "135af0ea7da2ce0",
   "outputs": [],
   "execution_count": null
  }
 ],
 "metadata": {
  "kernelspec": {
   "display_name": "Python 3",
   "language": "python",
   "name": "python3"
  },
  "language_info": {
   "codemirror_mode": {
    "name": "ipython",
    "version": 2
   },
   "file_extension": ".py",
   "mimetype": "text/x-python",
   "name": "python",
   "nbconvert_exporter": "python",
   "pygments_lexer": "ipython2",
   "version": "2.7.6"
  }
 },
 "nbformat": 4,
 "nbformat_minor": 5
}
