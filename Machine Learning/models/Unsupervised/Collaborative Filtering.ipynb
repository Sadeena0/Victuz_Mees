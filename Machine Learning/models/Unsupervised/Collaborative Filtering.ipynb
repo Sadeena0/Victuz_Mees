{
 "cells": [
  {
   "cell_type": "code",
   "id": "initial_id",
   "metadata": {
    "collapsed": true
   },
   "source": [
    "import pandas as pd\n",
    "from surprise import Dataset, Reader, KNNBasic\n",
    "from surprise.model_selection import train_test_split\n",
    "from surprise import accuracy\n",
    "from sklearn.neighbors import NearestNeighbors\n",
    "from sklearn.preprocessing import StandardScaler"
   ],
   "outputs": [],
   "execution_count": null
  },
  {
   "metadata": {},
   "cell_type": "code",
   "source": [
    "gebruikers_df = pd.read_csv(r'..\\..\\data\\gebruikersinformatie.csv', delimiter = ';')\n",
    "evenement_df = pd.read_csv(r'..\\..\\data\\evenementinformatie.csv', delimiter = ';')\n",
    "aanwezigheid_df = pd.read_csv(r'..\\..\\data\\evenementaanwezigheid.csv', delimiter = ';')\n",
    "\n",
    "all_df = [gebruikers_df, evenement_df, aanwezigheid_df]"
   ],
   "id": "278ac915319a4118",
   "outputs": [],
   "execution_count": null
  },
  {
   "metadata": {},
   "cell_type": "code",
   "source": [
    "datetime_cols = ['RegistratieDatum', 'LaatsteLogin', 'EvenementDatum', 'BerichtDatum']\n",
    "id_cols = ['GebruikerID', 'EvenementID', 'OrganisatorID', 'BerichtID']\n",
    "\n",
    "for df in all_df:\n",
    "    for col in df.columns:\n",
    "        if col in datetime_cols:\n",
    "            df[col] = pd.to_datetime(df[col], dayfirst = True)\n",
    "\n",
    "        elif col in id_cols:\n",
    "            df[col] = df[col].str[1:].astype(int)"
   ],
   "id": "712c75f28d99ff4a",
   "outputs": [],
   "execution_count": null
  },
  {
   "metadata": {},
   "cell_type": "code",
   "source": [
    "# Remove invalid gebruikers\n",
    "for col in gebruikers_df.columns:\n",
    "    gebruikers_df = gebruikers_df[~(gebruikers_df[col].isna())]\n",
    "\n",
    "gebruikers_df = gebruikers_df[~(gebruikers_df['Lidmaatschapstype'] == 'x')]\n",
    "\n",
    "gebruikers_df"
   ],
   "id": "72ae4e852b35d761",
   "outputs": [],
   "execution_count": null
  },
  {
   "metadata": {},
   "cell_type": "code",
   "source": [
    "#------------------------------------------------------------------------------------------------------------------------------------------------------\n",
    "# Alleen 'Bijgewoond'\n",
    "filtered_events = aanwezigheid_df[aanwezigheid_df['Aanwezigheidsstatus'] == 'Bijgewoond'].copy()\n",
    "\n",
    "# # Alles behalve 'Afwezig' (dus 'Bijgewoond' en 'Geregistreerd')\n",
    "# filtered_events = aanwezigheid_df.copy()\n",
    "# filtered_events = filtered_events[~(filtered_events['Aanwezigheidsstatus'] == 'Afwezig')]\n",
    "\n",
    "#------------------------------------------------------------------------------------------------------------------------------------------------------\n",
    "\n",
    "# Group event attendance data by GebruikerID\n",
    "events_per_user = (\n",
    "    filtered_events.groupby('GebruikerID')['EvenementID']\n",
    "    .apply(list)\n",
    "    .reset_index()\n",
    "    .rename(columns = {'EvenementID': 'Geregistreerde evenementen'})\n",
    ")\n",
    "\n",
    "# Merge gebruikers_df with the attended events\n",
    "gebruikers_df = gebruikers_df.merge(events_per_user, on = 'GebruikerID', how = 'left')\n",
    "\n",
    "# Fix typo's\n",
    "gebruikers_df['Studierichting'] = gebruikers_df['Studierichting'].replace('Data Engineering', 'Data engineering')\n",
    "\n",
    "# Delete entries with no evenementen bijgewoond\n",
    "gebruikers_df = gebruikers_df[~(gebruikers_df['Geregistreerde evenementen'].isna())]\n",
    "\n",
    "gebruikers_df"
   ],
   "id": "f02d34a6d7a3eed3",
   "outputs": [],
   "execution_count": null
  },
  {
   "metadata": {},
   "cell_type": "code",
   "source": [
    "# Select demographic features for similarity\n",
    "predictors = ['Leeftijd', 'Studierichting', 'Studiejaar', 'Lidmaatschapstype']\n",
    "\n",
    "# Make dummies\n",
    "dummies_df = pd.get_dummies(gebruikers_df[predictors])\n",
    "\n",
    "# Train a KNN model for finding similar users\n",
    "knn = NearestNeighbors(n_neighbors = 10)\n",
    "knn.fit(dummies_df)"
   ],
   "id": "f4771de52b33036c",
   "outputs": [],
   "execution_count": null
  },
  {
   "metadata": {},
   "cell_type": "code",
   "source": [
    "# Empty template df\n",
    "template_df = pd.DataFrame({\n",
    "    'Leeftijd': [0],\n",
    "    'Studierichting_Data engineering': False,\n",
    "    'Studierichting_Human computer interaction': False,\n",
    "    'Studierichting_Security & Cloud': False,\n",
    "    'Studierichting_Software engineering': False,\n",
    "    'Studiejaar_Derdejaars': False,\n",
    "    'Studiejaar_Eerstejaars': False,\n",
    "    'Studiejaar_Tweedejaars': False,\n",
    "    'Studiejaar_Vierdejaars': False,\n",
    "    'Lidmaatschapstype_Premium': False,\n",
    "    'Lidmaatschapstype_Regulier': False,\n",
    "})\n",
    "\n",
    "# New user data\n",
    "new_user_df = pd.DataFrame({\n",
    "    'Leeftijd': [25],\n",
    "    'Studierichting': ['Software engineering'],\n",
    "    'Studiejaar': [3],\n",
    "    'Lidmaatschapstype': ['Premium']\n",
    "})\n",
    "\n",
    "# Define variable column names\n",
    "studierichting_col = f\"Studierichting_{new_user_df.loc[0, 'Studierichting']}\"\n",
    "studiejaar_col = f\"Studiejaar_{['Eerstejaars', 'Tweedejaars', 'Derdejaars', 'Vierdejaars'][new_user_df.loc[0, 'Studiejaar'] - 1]}\"\n",
    "lidmaatschap_col = f\"Lidmaatschapstype_{new_user_df.loc[0, 'Lidmaatschapstype']}\"\n",
    "\n",
    "# Update values in template_df\n",
    "template_df.loc[0, 'Leeftijd'] = new_user_df.loc[0, 'Leeftijd']\n",
    "template_df.loc[0, [studierichting_col, studiejaar_col, lidmaatschap_col]] = True\n",
    "\n",
    "new_user_df = template_df\n",
    "\n",
    "new_user_df"
   ],
   "id": "d8c17f10ebd15677",
   "outputs": [],
   "execution_count": null
  },
  {
   "metadata": {},
   "cell_type": "code",
   "source": [
    "# Find similar users\n",
    "distances, indices = knn.kneighbors(new_user_df)\n",
    "\n",
    "# Get similar users' event preferences\n",
    "similar_users = gebruikers_df.iloc[indices[0]]\n",
    "similar_users"
   ],
   "id": "4e947488bcb9de1f",
   "outputs": [],
   "execution_count": null
  },
  {
   "metadata": {},
   "cell_type": "code",
   "source": [
    "# Get recommended event ids and write into dataframe\n",
    "recommended_event_ids = similar_users['Geregistreerde evenementen'].sum()\n",
    "recommended_event_ids_df = pd.DataFrame({'EvenementID': recommended_event_ids})\n",
    "\n",
    "# Get full information on these events by merging with evenementinformatie\n",
    "recommended_events = recommended_event_ids_df.merge(evenement_df, on = 'EvenementID', how = 'left')\n",
    "\n",
    "# Count how often each type appears\n",
    "recommended_events_type_counts = recommended_events['EvenementType'].value_counts()\n",
    "\n",
    "recommended_events_type_counts"
   ],
   "id": "b6e91c4df05b5786",
   "outputs": [],
   "execution_count": null
  }
 ],
 "metadata": {
  "kernelspec": {
   "display_name": "Python 3",
   "language": "python",
   "name": "python3"
  },
  "language_info": {
   "codemirror_mode": {
    "name": "ipython",
    "version": 2
   },
   "file_extension": ".py",
   "mimetype": "text/x-python",
   "name": "python",
   "nbconvert_exporter": "python",
   "pygments_lexer": "ipython2",
   "version": "2.7.6"
  }
 },
 "nbformat": 4,
 "nbformat_minor": 5
}
