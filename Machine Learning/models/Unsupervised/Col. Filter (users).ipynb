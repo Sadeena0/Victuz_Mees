{
 "cells": [
  {
   "cell_type": "code",
   "id": "initial_id",
   "metadata": {
    "collapsed": true
   },
   "source": [
    "import pandas as pd\n",
    "import numpy as np\n",
    "import warnings\n",
    "from sklearn.neighbors import NearestNeighbors\n",
    "\n",
    "warnings.simplefilter(action = 'ignore', category = FutureWarning)"
   ],
   "outputs": [],
   "execution_count": null
  },
  {
   "metadata": {},
   "cell_type": "code",
   "source": [
    "gebruikers_df = pd.read_csv(r'..\\..\\data\\gebruikersinformatie.csv', delimiter = ';')\n",
    "evenement_df = pd.read_csv(r'..\\..\\data\\evenementinformatie.csv', delimiter = ';')\n",
    "aanwezigheid_df = pd.read_csv(r'..\\..\\data\\evenementaanwezigheid.csv', delimiter = ';')\n",
    "\n",
    "all_df = [gebruikers_df, evenement_df, aanwezigheid_df]"
   ],
   "id": "278ac915319a4118",
   "outputs": [],
   "execution_count": null
  },
  {
   "metadata": {},
   "cell_type": "code",
   "source": [
    "# Convert all ID and datetime columns\n",
    "datetime_cols = ['RegistratieDatum', 'LaatsteLogin', 'EvenementDatum', 'BerichtDatum']\n",
    "id_cols = ['GebruikerID', 'EvenementID', 'OrganisatorID', 'BerichtID']\n",
    "\n",
    "for df in all_df:\n",
    "    for col in df.columns:\n",
    "        if col in datetime_cols:\n",
    "            df[col] = pd.to_datetime(df[col], dayfirst = True)\n",
    "\n",
    "        elif col in id_cols:\n",
    "            df[col] = df[col].str[1:].astype(int)"
   ],
   "id": "712c75f28d99ff4a",
   "outputs": [],
   "execution_count": null
  },
  {
   "metadata": {},
   "cell_type": "code",
   "source": [
    "# Remove invalid gebruikers\n",
    "for col in gebruikers_df.columns:\n",
    "    gebruikers_df = gebruikers_df[~(gebruikers_df[col].isna())]\n",
    "\n",
    "gebruikers_df = gebruikers_df[~(gebruikers_df['Lidmaatschapstype'] == 'x')]"
   ],
   "id": "72ae4e852b35d761",
   "outputs": [],
   "execution_count": null
  },
  {
   "metadata": {},
   "cell_type": "code",
   "source": [
    "#------------------------------------------------------------------------------------------------------------------------------------------------------\n",
    "# # Alleen 'Bijgewoond'\n",
    "# filtered_events = aanwezigheid_df[aanwezigheid_df['Aanwezigheidsstatus'] == 'Bijgewoond'].copy()\n",
    "\n",
    "# Alles behalve 'Afwezig' (dus 'Bijgewoond' en 'Geregistreerd')\n",
    "filtered_events = aanwezigheid_df.copy()\n",
    "filtered_events = filtered_events[~(filtered_events['Aanwezigheidsstatus'] == 'Afwezig')]\n",
    "#------------------------------------------------------------------------------------------------------------------------------------------------------\n",
    "\n",
    "# Group event attendance data by GebruikerID\n",
    "events_per_user = (\n",
    "    filtered_events.groupby('GebruikerID')['EvenementID']\n",
    "    .apply(lambda x: list(x.unique()))\n",
    "    .reset_index()\n",
    "    .rename(columns = {'EvenementID': 'Geregistreerde evenementen'})\n",
    ")\n",
    "\n",
    "# Merge gebruikers_df with the attended events\n",
    "gebruikers_df = gebruikers_df.merge(events_per_user, on = 'GebruikerID', how = 'left')\n",
    "\n",
    "# Fix typo's\n",
    "gebruikers_df['Studierichting'] = gebruikers_df['Studierichting'].replace('Data Engineering', 'Data engineering')\n",
    "\n",
    "# Delete entries with no evenementen bijgewoond\n",
    "gebruikers_df = gebruikers_df[~(gebruikers_df['Geregistreerde evenementen'].isna())]\n",
    "\n",
    "gebruikers_df"
   ],
   "id": "f02d34a6d7a3eed3",
   "outputs": [],
   "execution_count": null
  },
  {
   "metadata": {},
   "cell_type": "code",
   "source": [
    "# Select demographic features\n",
    "features = ['Leeftijd', 'Studierichting', 'Studiejaar', 'Lidmaatschapstype']\n",
    "\n",
    "# Prepare training data\n",
    "training_df = pd.get_dummies(gebruikers_df[features])\n",
    "\n",
    "# Train a KNN model for finding similar users\n",
    "knn = NearestNeighbors(n_neighbors = 10)\n",
    "knn.fit(training_df)\n",
    "\n",
    "training_df"
   ],
   "id": "f4771de52b33036c",
   "outputs": [],
   "execution_count": null
  },
  {
   "metadata": {},
   "cell_type": "code",
   "source": [
    "# Empty template df\n",
    "template_df = training_df.iloc[:0].copy()\n",
    "\n",
    "# # New user data\n",
    "# input_df = pd.DataFrame({\n",
    "#     'Leeftijd': [25],\n",
    "#     'Studierichting': ['Software engineering'],\n",
    "#     'Studiejaar': [3],\n",
    "#     'Lidmaatschapstype': ['Premium']\n",
    "# })\n",
    "\n",
    "# Initialize input df\n",
    "input_df = pd.read_csv(r'..\\..\\data\\Nieuwe gebruikers.csv')\n",
    "\n",
    "# Create empty df where rows will get appended onto\\\n",
    "converted_input_df = pd.DataFrame(columns = template_df.columns)\n",
    "\n",
    "# Iterate over every row of the input, convert it, and eppend it to the converted_input_df\n",
    "for _, row in input_df.iterrows():\n",
    "    new_row = template_df.copy()\n",
    "\n",
    "    # Copy values of input row into template row\n",
    "    # Leeftijd\n",
    "    new_row.loc[0, 'Leeftijd'] = row.loc['Leeftijd']\n",
    "\n",
    "    # Studierichting, Studiejaar and Lidmaatschapstype\n",
    "    new_row.loc[0, [\n",
    "        f\"Studierichting_{row.loc['Studierichting']}\",\n",
    "        f\"Studiejaar_{['Eerstejaars', 'Tweedejaars', 'Derdejaars', 'Vierdejaars'][row.loc['Studiejaar'] - 1]}\",\n",
    "        f\"Lidmaatschapstype_{row.loc['Lidmaatschapstype']}\"\n",
    "    ]] = True\n",
    "\n",
    "    # Append new row to converted_input_df\n",
    "    converted_input_df = pd.concat([converted_input_df, new_row], ignore_index = True)\n",
    "\n",
    "# Replace NaN with False\n",
    "input_df = converted_input_df.fillna(False)\n",
    "\n",
    "input_df"
   ],
   "id": "d8c17f10ebd15677",
   "outputs": [],
   "execution_count": null
  },
  {
   "metadata": {},
   "cell_type": "code",
   "source": [
    "# Find similar users\n",
    "distances, indices = knn.kneighbors(input_df)\n",
    "\n",
    "input_df['Nearest neighbours'] = indices.tolist()\n",
    "\n",
    "input_df"
   ],
   "id": "4e947488bcb9de1f",
   "outputs": [],
   "execution_count": null
  },
  {
   "metadata": {},
   "cell_type": "code",
   "source": [
    "def get_event_type_ranked(neighbours): \n",
    "    event_type_counter = {}\n",
    "    \n",
    "    for neighbour in neighbours:\n",
    "        \n",
    "        # Make sure neighbour exists\n",
    "        if neighbour in gebruikers_df.index:\n",
    "        \n",
    "            # Get the list of events for this neighbour\n",
    "            registered_events = gebruikers_df.loc[gebruikers_df.index == neighbour, 'Geregistreerde evenementen'].values[0]\n",
    "    \n",
    "            # For each event ID, get its type\n",
    "            for event_id in registered_events:\n",
    "                event_type = evenement_df.loc[evenement_df['EvenementID'] == event_id, 'EvenementType'].values\n",
    "    \n",
    "                if event_type.size > 0:\n",
    "                    # Tally the event type\n",
    "                    event_type_counter[event_type[0]] = event_type_counter.get(event_type[0], 0) + 1\n",
    "\n",
    "    # Return the event types sorted from most to least frequent\n",
    "    sorted_event_types = sorted(event_type_counter, key = event_type_counter.get, reverse = True)\n",
    "\n",
    "    return sorted_event_types"
   ],
   "id": "288f635976a860ab",
   "outputs": [],
   "execution_count": null
  },
  {
   "metadata": {},
   "cell_type": "code",
   "source": [
    "input_df[['Evenement 1', 'Evenement 2', 'Evenement 3', 'Evenement 4']] = input_df['Nearest neighbours'].apply(\n",
    "    lambda neighbours: pd.Series(get_event_type_ranked(neighbours))\n",
    ")\n",
    "\n",
    "input_df"
   ],
   "id": "f91cb93f9b2b61bd",
   "outputs": [],
   "execution_count": null
  },
  {
   "metadata": {},
   "cell_type": "code",
   "source": [
    "# Write data to csv\n",
    "output_df = pd.read_csv(r'..\\..\\data\\Nieuwe gebruikers.csv')\n",
    "\n",
    "output_df['Evenement 1'] = input_df['Evenement 1']\n",
    "output_df['Evenement 2'] = input_df['Evenement 2']\n",
    "output_df['Evenement 3'] = input_df['Evenement 3']\n",
    "output_df['Evenement 4'] = input_df['Evenement 4']\n",
    "\n",
    "output_df.to_csv(r'..\\..\\data\\Nieuwe gebruikers.csv', index = False)\n",
    "output_df"
   ],
   "id": "57ecacefe48c1b95",
   "outputs": [],
   "execution_count": null
  }
 ],
 "metadata": {
  "kernelspec": {
   "display_name": "Python 3",
   "language": "python",
   "name": "python3"
  },
  "language_info": {
   "codemirror_mode": {
    "name": "ipython",
    "version": 2
   },
   "file_extension": ".py",
   "mimetype": "text/x-python",
   "name": "python",
   "nbconvert_exporter": "python",
   "pygments_lexer": "ipython2",
   "version": "2.7.6"
  }
 },
 "nbformat": 4,
 "nbformat_minor": 5
}
