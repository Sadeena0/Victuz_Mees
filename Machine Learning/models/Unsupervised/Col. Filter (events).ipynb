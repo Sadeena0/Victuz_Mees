{
 "cells": [
  {
   "cell_type": "code",
   "id": "initial_id",
   "metadata": {
    "collapsed": true
   },
   "source": [
    "import pandas as pd\n",
    "import numpy as np\n",
    "import warnings\n",
    "\n",
    "from sklearn.neighbors import NearestNeighbors\n",
    "from scipy.stats import percentileofscore\n",
    "\n",
    "warnings.simplefilter(action = 'ignore', category = FutureWarning)"
   ],
   "outputs": [],
   "execution_count": null
  },
  {
   "metadata": {},
   "cell_type": "code",
   "source": [
    "evenement_df = pd.read_csv(r'..\\..\\data\\evenementinformatie.csv', delimiter = ';')\n",
    "bericht_df = pd.read_csv(r'..\\..\\data\\berichtinteracties_met_sentiment.csv', delimiter = ';')\n",
    "aanwezigheid_df = pd.read_csv(r'..\\..\\data\\evenementaanwezigheid.csv', delimiter = ';')\n",
    "\n",
    "all_df = [evenement_df, bericht_df, aanwezigheid_df]"
   ],
   "id": "278ac915319a4118",
   "outputs": [],
   "execution_count": null
  },
  {
   "metadata": {},
   "cell_type": "code",
   "source": [
    "# Convert all ID and datetime columns\n",
    "datetime_cols = ['RegistratieDatum', 'LaatsteLogin', 'EvenementDatum', 'BerichtDatum']\n",
    "id_cols = ['GebruikerID', 'EvenementID', 'OrganisatorID', 'BerichtID']\n",
    "\n",
    "for df in all_df:\n",
    "    for col in df.columns:\n",
    "        if col in datetime_cols:\n",
    "            df[col] = pd.to_datetime(df[col], dayfirst = True)\n",
    "\n",
    "        elif col in id_cols:\n",
    "            df[col] = df[col].str[1:].astype(int)"
   ],
   "id": "712c75f28d99ff4a",
   "outputs": [],
   "execution_count": null
  },
  {
   "metadata": {},
   "cell_type": "code",
   "source": [
    "# Map sentiment to values\n",
    "sentiment_map = {'Negatief': -1,\n",
    "                 'Neutraal': 0,\n",
    "                 'Positief': 1}\n",
    "bericht_df['SentimentScore'] = bericht_df['BerichtSentiment'].map(sentiment_map)\n",
    "\n",
    "# Multiply sentiment with OntvangenLikes\n",
    "bericht_df['WeightedSentiment'] = bericht_df['SentimentScore'] * bericht_df['OntvangenLikes']\n",
    "\n",
    "# Aggregate sentiment per event\n",
    "sentiment_per_event_df = bericht_df.groupby('EvenementID')['WeightedSentiment'].sum().reset_index()\n",
    "\n",
    "sentiment_per_event_df"
   ],
   "id": "1fd010475cb3e3d3",
   "outputs": [],
   "execution_count": null
  },
  {
   "metadata": {},
   "cell_type": "code",
   "source": [
    "# Split aanwezigheidsstatus into relevant columns\n",
    "aanwezigheid_df['Geregistreerd'] = aanwezigheid_df['Aanwezigheidsstatus'] == 'Geregistreerd'\n",
    "aanwezigheid_df['Bijgewoond'] = aanwezigheid_df['Aanwezigheidsstatus'] == 'Bijgewoond'\n",
    "\n",
    "# Count totals\n",
    "aanwezigheid_count_df = aanwezigheid_df.groupby('EvenementID').agg(\n",
    "    Bijgewoond_freq = ('Bijgewoond', 'sum'),\n",
    "    Geregistreerd_freq = ('Geregistreerd', 'sum')\n",
    ").reset_index()\n",
    "\n",
    "aanwezigheid_count_df['Geregistreerd_freq'] += aanwezigheid_count_df['Bijgewoond_freq']\n",
    "\n",
    "aanwezigheid_count_df"
   ],
   "id": "77b335adddf0911d",
   "outputs": [],
   "execution_count": null
  },
  {
   "metadata": {},
   "cell_type": "code",
   "source": [
    "# Merge with events\n",
    "evenement_df = evenement_df.merge(sentiment_per_event_df, on = 'EvenementID', how = 'left') \\\n",
    "    .merge(aanwezigheid_count_df, on = 'EvenementID', how = 'left')\n",
    "\n",
    "evenement_df"
   ],
   "id": "4abc3ea04fad5e74",
   "outputs": [],
   "execution_count": null
  },
  {
   "metadata": {},
   "cell_type": "code",
   "source": [
    "# Select demographic features\n",
    "predictors = ['EvenementType']\n",
    "\n",
    "# Prepare training data\n",
    "training_df = pd.get_dummies(evenement_df[predictors])\n",
    "training_df['EvenementDatum_month_sin'] = np.sin(2 * np.pi * evenement_df['EvenementDatum'].dt.month / 12)\n",
    "training_df['EvenementDatum_month_cos'] = np.cos(2 * np.pi * evenement_df['EvenementDatum'].dt.month / 12)\n",
    "training_df['EvenementDatum_day_isweekend'] = evenement_df['EvenementDatum'].dt.weekday >= 5\n",
    "\n",
    "# Train a KNN model for finding similar events\n",
    "knn = NearestNeighbors(n_neighbors = 5)\n",
    "knn.fit(training_df)\n",
    "\n",
    "training_df"
   ],
   "id": "f4771de52b33036c",
   "outputs": [],
   "execution_count": null
  },
  {
   "metadata": {},
   "cell_type": "code",
   "source": [
    "# Empty template df\n",
    "template_df = training_df.iloc[:0].copy()\n",
    "\n",
    "# New event data\n",
    "# input_df = pd.DataFrame({\n",
    "#     'Evenement Type': ['BBQ'],\n",
    "#     'Evenement Datum': [pd.to_datetime('2023-11-05')],\n",
    "# })\n",
    "\n",
    "# Initialize input df\n",
    "input_df = pd.read_csv(r'..\\..\\data\\Nieuwe evenementen.csv')\n",
    "input_df['Evenement Datum'] = pd.to_datetime(input_df['Evenement Datum'], dayfirst = True)\n",
    "\n",
    "# Create empty df where rows will get appended onto\n",
    "converted_input_df = pd.DataFrame(columns = template_df.columns)\n",
    "\n",
    "# Iterate over every row of the input, convert it, and append it to converted_input_df\n",
    "for _, row in input_df.iterrows():\n",
    "    new_row = template_df.copy()\n",
    "    \n",
    "    # Copy values of input row into template row\n",
    "    # Evenement type\n",
    "    new_row.loc[0, f'EvenementType_{row['Evenement Type']}'] = True\n",
    "\n",
    "    # Month\n",
    "    month = row['Evenement Datum'].month\n",
    "    new_row.loc[0, ['EvenementDatum_month_sin', 'EvenementDatum_month_cos']] = [\n",
    "        np.sin(2 * np.pi * month / 12),\n",
    "        np.cos(2 * np.pi * month / 12)\n",
    "    ]\n",
    "\n",
    "    # Weekend\n",
    "    new_row.loc[0, 'EvenementDatum_day_isweekend'] = row['Evenement Datum'].weekday() >= 5\n",
    "\n",
    "    # Append new row to converted_input_df\n",
    "    converted_input_df = pd.concat([converted_input_df, new_row], ignore_index = True)\n",
    "\n",
    "# Replace NaN with False\n",
    "input_df = converted_input_df.fillna(False)\n",
    "\n",
    "input_df"
   ],
   "id": "bfd06675e40346f2",
   "outputs": [],
   "execution_count": null
  },
  {
   "metadata": {},
   "cell_type": "code",
   "source": [
    "# Find similar events\n",
    "distances, indices = knn.kneighbors(input_df)\n",
    "\n",
    "input_df['Nearest neighbours'] = indices.tolist()\n",
    "\n",
    "input_df"
   ],
   "id": "4e947488bcb9de1f",
   "outputs": [],
   "execution_count": null
  },
  {
   "metadata": {},
   "cell_type": "code",
   "source": [
    "# Function to calculate average of a column\n",
    "def get_average(neighbours, column_name):\n",
    "    return evenement_df.iloc[neighbours][column_name].mean()\n",
    "\n",
    "# Function to calculate a bunch of statistics pew row\n",
    "def calculate_statistics(row):\n",
    "    average_weighted_sentiment = row['Avg Weighted Sentiment']\n",
    "    percentile = 100 - percentileofscore(evenement_df['WeightedSentiment'], average_weighted_sentiment)\n",
    "    total_events = evenement_df.shape[0] + 1\n",
    "    rank = int((percentile / 100 * total_events) + 1)\n",
    "\n",
    "    return average_weighted_sentiment, percentile, total_events, rank"
   ],
   "id": "e69f7591025e2ed9",
   "outputs": [],
   "execution_count": null
  },
  {
   "metadata": {},
   "cell_type": "code",
   "source": [
    "# Calculate averages for each new event, based on nearest neighbours\n",
    "input_df['Avg Weighted Sentiment'] = input_df['Nearest neighbours'].apply(\n",
    "    lambda neighbours: get_average(neighbours, 'WeightedSentiment')\n",
    ")\n",
    "\n",
    "input_df['Sentiment Rank'] = input_df.apply(\n",
    "    lambda row: calculate_statistics(row)[3], axis = 1\n",
    ")\n",
    "\n",
    "input_df['Avg Bijgewoond'] = input_df['Nearest neighbours'].apply(\n",
    "    lambda neighbours: get_average(neighbours, 'Bijgewoond_freq')\n",
    ")\n",
    "\n",
    "input_df['Avg Geregistreerd'] = input_df['Nearest neighbours'].apply(\n",
    "    lambda neighbours: get_average(neighbours, 'Geregistreerd_freq')\n",
    ")\n",
    "\n",
    "input_df"
   ],
   "id": "36b9595dd7a8519",
   "outputs": [],
   "execution_count": null
  },
  {
   "metadata": {},
   "cell_type": "code",
   "source": [
    "for i, row in input_df.iterrows():\n",
    "    print(f'\\nRow: {i + 1}')\n",
    "\n",
    "    average_weighted_sentiment, percentile, total_events, rank = calculate_statistics(row)\n",
    "\n",
    "    print(\n",
    "        f'Expected weighted sentiment for this event: {average_weighted_sentiment} (top {percentile}%, would rank {rank} out of {total_events} events)')\n",
    "    \n",
    "    average_bijgewoond = row['Avg Bijgewoond']\n",
    "    average_geregistreerd = row['Avg Geregistreerd']\n",
    "    attendance = round((average_bijgewoond / average_geregistreerd) * 100, 1)\n",
    "    \n",
    "    print(\n",
    "        f'Expected attendance for this event: {int(average_bijgewoond)} aanwezig, {int(average_geregistreerd)} geregistreerd ({attendance}% attendance)')"
   ],
   "id": "b6e91c4df05b5786",
   "outputs": [],
   "execution_count": null
  },
  {
   "metadata": {},
   "cell_type": "code",
   "source": [
    "# Write data to csv\n",
    "output_df = pd.read_csv(r'..\\..\\data\\Nieuwe evenementen.csv')\n",
    "\n",
    "output_df['Sentiment'] = input_df['Avg Weighted Sentiment']\n",
    "output_df['Rank'] = input_df['Sentiment Rank']\n",
    "\n",
    "output_df['Aantal geregistreerden'] = input_df['Avg Geregistreerd']\n",
    "output_df['Aantal aanwezigen'] = input_df['Avg Bijgewoond']\n",
    "output_df['Aanwezigheidspercentage'] = round(input_df['Avg Bijgewoond'] / input_df['Avg Geregistreerd'] * 100, 1)\n",
    "\n",
    "output_df.to_csv(r'..\\..\\data\\Nieuwe evenementen.csv', index = False)\n",
    "output_df"
   ],
   "id": "bebc66ab514b3a87",
   "outputs": [],
   "execution_count": null
  },
  {
   "metadata": {},
   "cell_type": "code",
   "source": "",
   "id": "619ab58448776b44",
   "outputs": [],
   "execution_count": null
  }
 ],
 "metadata": {
  "kernelspec": {
   "display_name": "Python 3",
   "language": "python",
   "name": "python3"
  },
  "language_info": {
   "codemirror_mode": {
    "name": "ipython",
    "version": 2
   },
   "file_extension": ".py",
   "mimetype": "text/x-python",
   "name": "python",
   "nbconvert_exporter": "python",
   "pygments_lexer": "ipython2",
   "version": "2.7.6"
  }
 },
 "nbformat": 4,
 "nbformat_minor": 5
}
