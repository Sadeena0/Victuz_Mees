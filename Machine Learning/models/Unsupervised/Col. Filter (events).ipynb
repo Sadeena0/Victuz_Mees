{
 "cells": [
  {
   "cell_type": "code",
   "id": "initial_id",
   "metadata": {
    "collapsed": true
   },
   "source": [
    "import pandas as pd\n",
    "import numpy as np\n",
    "import warnings\n",
    "\n",
    "from sklearn.neighbors import NearestNeighbors\n",
    "from scipy.stats import percentileofscore\n",
    "\n",
    "warnings.simplefilter(action = 'ignore', category = FutureWarning)"
   ],
   "outputs": [],
   "execution_count": null
  },
  {
   "metadata": {},
   "cell_type": "code",
   "source": [
    "evenement_df = pd.read_csv(r'..\\..\\data\\evenementinformatie.csv', delimiter = ';')\n",
    "bericht_df = pd.read_csv(r'..\\..\\data\\berichtinteracties_met_sentiment.csv', delimiter = ';')\n",
    "aanwezigheid_df = pd.read_csv(r'..\\..\\data\\evenementaanwezigheid.csv', delimiter = ';')\n",
    "\n",
    "all_df = [evenement_df, bericht_df, aanwezigheid_df]"
   ],
   "id": "278ac915319a4118",
   "outputs": [],
   "execution_count": null
  },
  {
   "metadata": {},
   "cell_type": "code",
   "source": [
    "# Convert all ID and datetime columns\n",
    "datetime_cols = ['RegistratieDatum', 'LaatsteLogin', 'EvenementDatum', 'BerichtDatum']\n",
    "id_cols = ['GebruikerID', 'EvenementID', 'OrganisatorID', 'BerichtID']\n",
    "\n",
    "for df in all_df:\n",
    "    for col in df.columns:\n",
    "        if col in datetime_cols:\n",
    "            df[col] = pd.to_datetime(df[col], dayfirst = True)\n",
    "\n",
    "        elif col in id_cols:\n",
    "            df[col] = df[col].str[1:].astype(int)"
   ],
   "id": "712c75f28d99ff4a",
   "outputs": [],
   "execution_count": null
  },
  {
   "metadata": {},
   "cell_type": "code",
   "source": [
    "# Map sentiment to values\n",
    "sentiment_map = {'Negatief': -1,\n",
    "                 'Neutraal': 0,\n",
    "                 'Positief': 1}\n",
    "bericht_df['SentimentScore'] = bericht_df['BerichtSentiment'].map(sentiment_map)\n",
    "\n",
    "# Multiply sentiment with OntvangenLikes\n",
    "bericht_df['WeightedSentiment'] = bericht_df['SentimentScore'] * bericht_df['OntvangenLikes']\n",
    "\n",
    "# Aggregate sentiment per event\n",
    "sentiment_per_event_df = bericht_df.groupby('EvenementID')['WeightedSentiment'].sum().reset_index()\n",
    "\n",
    "sentiment_per_event_df"
   ],
   "id": "1fd010475cb3e3d3",
   "outputs": [],
   "execution_count": null
  },
  {
   "metadata": {},
   "cell_type": "code",
   "source": [
    "# Split aanwezigheidsstatus into relevant columns\n",
    "aanwezigheid_df['Geregistreerd'] = aanwezigheid_df['Aanwezigheidsstatus'] == 'Geregistreerd'\n",
    "aanwezigheid_df['Bijgewoond'] = aanwezigheid_df['Aanwezigheidsstatus'] == 'Bijgewoond'\n",
    "\n",
    "# Count totals\n",
    "aanwezigheid_count_df = aanwezigheid_df.groupby('EvenementID').agg(\n",
    "    Bijgewoond_freq=('Bijgewoond', 'sum'),\n",
    "    Geregistreerd_freq=('Geregistreerd', 'sum')\n",
    ").reset_index()\n",
    "\n",
    "aanwezigheid_count_df"
   ],
   "id": "77b335adddf0911d",
   "outputs": [],
   "execution_count": null
  },
  {
   "metadata": {},
   "cell_type": "code",
   "source": [
    "# Merge with events\n",
    "evenement_df = evenement_df.merge(sentiment_per_event_df, on = 'EvenementID', how = 'left') \\\n",
    "    .merge(aanwezigheid_count_df, on = 'EvenementID', how = 'left')\n",
    "\n",
    "evenement_df"
   ],
   "id": "4abc3ea04fad5e74",
   "outputs": [],
   "execution_count": null
  },
  {
   "metadata": {},
   "cell_type": "code",
   "source": [
    "# Select demographic features\n",
    "predictors = ['EvenementType']\n",
    "\n",
    "# Prepare training data\n",
    "training_df = pd.get_dummies(evenement_df[predictors])\n",
    "training_df['EvenementDatum_month_sin'] = np.sin(2 * np.pi * evenement_df['EvenementDatum'].dt.month / 12)\n",
    "training_df['EvenementDatum_month_cos'] = np.cos(2 * np.pi * evenement_df['EvenementDatum'].dt.month / 12)\n",
    "\n",
    "# Train a KNN model for finding similar events\n",
    "knn = NearestNeighbors(n_neighbors = 5)\n",
    "knn.fit(training_df)\n",
    "\n",
    "training_df"
   ],
   "id": "f4771de52b33036c",
   "outputs": [],
   "execution_count": null
  },
  {
   "metadata": {},
   "cell_type": "code",
   "source": [
    "# Empty template df\n",
    "template_df = training_df.iloc[:0].copy()\n",
    "\n",
    "# New event data\n",
    "new_event_df = pd.DataFrame({\n",
    "    'EvenementType': ['BBQ'],\n",
    "    'EvenementDatum': [pd.to_datetime('2023-11-05')],\n",
    "})\n",
    "\n",
    "# Extract month\n",
    "month = new_event_df['EvenementDatum'].dt.month.iloc[0]\n",
    "\n",
    "# Update values in template_df\n",
    "template_df.loc[0, f\"EvenementType_{new_event_df.loc[0, 'EvenementType']}\"] = True\n",
    "\n",
    "template_df.loc[0, ['EvenementDatum_month_sin', 'EvenementDatum_month_cos']] = [\n",
    "    np.sin(2 * np.pi * month / 12),\n",
    "    np.cos(2 * np.pi * month / 12)\n",
    "]\n",
    "\n",
    "new_event_df = template_df.fillna(False)\n",
    "\n",
    "new_event_df"
   ],
   "id": "d8c17f10ebd15677",
   "outputs": [],
   "execution_count": null
  },
  {
   "metadata": {},
   "cell_type": "code",
   "source": [
    "# Find similar users\n",
    "distances, indices = knn.kneighbors(new_event_df)\n",
    "\n",
    "# Get similar users' event preferences\n",
    "similar_events = evenement_df.iloc[indices[0]]\n",
    "similar_events"
   ],
   "id": "4e947488bcb9de1f",
   "outputs": [],
   "execution_count": null
  },
  {
   "metadata": {},
   "cell_type": "code",
   "source": [
    "average_weighted_sentiment = similar_events['WeightedSentiment'].mean()\n",
    "percentile = 100 - percentileofscore(evenement_df['WeightedSentiment'], average_weighted_sentiment)\n",
    "total_events = evenement_df.shape[0]\n",
    "rank = int((percentile / 100 * total_events) + 1)\n",
    "\n",
    "print(\n",
    "    f'Expected weighted sentiment for this event: {average_weighted_sentiment} (top {percentile}%, would rank {rank} out of {total_events} events)')\n",
    "\n",
    "average_bijgewoond = similar_events['Bijgewoond_freq'].mean()\n",
    "average_geregistreerd = similar_events['Geregistreerd_freq'].mean() + average_bijgewoond\n",
    "attendance = round((average_bijgewoond / average_geregistreerd) * 100, 1)\n",
    "\n",
    "print(\n",
    "    f'Expected attendance for this event: {int(average_bijgewoond)} aanwezig, {int(average_geregistreerd)} geregistreerd ({attendance}% attendance)')"
   ],
   "id": "b6e91c4df05b5786",
   "outputs": [],
   "execution_count": null
  }
 ],
 "metadata": {
  "kernelspec": {
   "display_name": "Python 3",
   "language": "python",
   "name": "python3"
  },
  "language_info": {
   "codemirror_mode": {
    "name": "ipython",
    "version": 2
   },
   "file_extension": ".py",
   "mimetype": "text/x-python",
   "name": "python",
   "nbconvert_exporter": "python",
   "pygments_lexer": "ipython2",
   "version": "2.7.6"
  }
 },
 "nbformat": 4,
 "nbformat_minor": 5
}
