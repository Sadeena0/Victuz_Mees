{
 "cells": [
  {
   "metadata": {},
   "cell_type": "code",
   "source": [
    "import pandas as pd\n",
    "from feature_selectors import *\n",
    "from mlxtend.frequent_patterns import apriori, association_rules"
   ],
   "id": "58b418fc34724445",
   "outputs": [],
   "execution_count": null
  },
  {
   "metadata": {},
   "cell_type": "code",
   "source": [
    "gebruikers_df = pd.read_csv(r'..\\..\\data\\gebruikersinformatie.csv', delimiter = ';')\n",
    "evenement_df = pd.read_csv(r'..\\..\\data\\evenementinformatie.csv', delimiter = ';')\n",
    "aanwezigheid_df = pd.read_csv(r'..\\..\\data\\evenementaanwezigheid.csv', delimiter = ';')\n",
    "bericht_df = pd.read_csv(r'..\\..\\data\\berichtinteracties_met_sentiment.csv', delimiter = ';')"
   ],
   "id": "88aab4efd729058d",
   "outputs": [],
   "execution_count": null
  },
  {
   "metadata": {},
   "cell_type": "code",
   "source": [
    "aanwezigheid_df = merge_on_aanwezigheid(aanwezigheid_df, evenement_df, gebruikers_df)\n",
    "\n",
    "aanwezigheid_df"
   ],
   "id": "a10ad5b92501aac3",
   "outputs": [],
   "execution_count": null
  },
  {
   "metadata": {},
   "cell_type": "code",
   "source": [
    "# Remove nonvalid entries\n",
    "aanwezigheid_df = aanwezigheid_df[~(aanwezigheid_df['Gebruiker_Leeftijd'].isna())]\n",
    "aanwezigheid_df = aanwezigheid_df[~(aanwezigheid_df['Gebruiker_Lidmaatschapstype'] == 'x')]\n",
    "aanwezigheid_df"
   ],
   "id": "93c611538925453c",
   "outputs": [],
   "execution_count": null
  },
  {
   "metadata": {},
   "cell_type": "code",
   "source": [
    "# Convert ID to ints\n",
    "to_convert = [\"EvenementID\", \"GebruikerID\", \"Evenement_OrganisatorID\"]\n",
    "\n",
    "for col in to_convert:\n",
    "    aanwezigheid_df[col] = aanwezigheid_df[col].str[1:].astype(int)\n",
    "    \n",
    "aanwezigheid_df"
   ],
   "id": "e6c11c59898e947e",
   "outputs": [],
   "execution_count": null
  },
  {
   "metadata": {},
   "cell_type": "code",
   "source": [
    "# Convert columns to datetime datatype and extract month\n",
    "date_columns = ['Evenement_EvenementDatum', 'Gebruiker_RegistratieDatum', 'Gebruiker_LaatsteLogin']\n",
    "\n",
    "for col in date_columns:\n",
    "    aanwezigheid_df[col] = pd.to_datetime(aanwezigheid_df[col], dayfirst = True)\n",
    "\n",
    "for col in date_columns:\n",
    "    aanwezigheid_df[f'{col}_month'] = aanwezigheid_df[col].dt.month\n",
    "\n",
    "aanwezigheid_df"
   ],
   "id": "ff9b8614a2ec22e5",
   "outputs": [],
   "execution_count": null
  },
  {
   "metadata": {},
   "cell_type": "code",
   "source": [
    "# Create boolean dataframe\n",
    "dummies_df = pd.DataFrame()\n",
    "\n",
    "# Aanwezigheid columns\n",
    "dummies_df = pd.concat([dummies_df, pd.get_dummies(aanwezigheid_df['Aanwezigheidsstatus'], prefix = 'Aanwezigheid')], axis = 1)\n",
    "\n",
    "# Evenement columns\n",
    "dummies_df = pd.concat([dummies_df, pd.get_dummies(aanwezigheid_df['Evenement_EvenementType'], prefix = 'EvenementType')], axis = 1)\n",
    "\n",
    "dummies_df[\"EvenementDatum_is_weekday\"] = aanwezigheid_df[\"Evenement_EvenementDatum\"].dt.weekday < 5\n",
    "dummies_df[\"EvenementDatum_is_weekend\"] = aanwezigheid_df[\"Evenement_EvenementDatum\"].dt.weekday >= 5\n",
    "\n",
    "dummies_df = pd.concat([dummies_df, pd.get_dummies(aanwezigheid_df['Evenement_EvenementDatum_month'], prefix = 'EvenementDatum_month')], axis = 1)\n",
    "\n",
    "# Gebruiker columns\n",
    "dummies_df[f'Younger'] = aanwezigheid_df[\"Gebruiker_Leeftijd\"] <= aanwezigheid_df[\"Gebruiker_Leeftijd\"].mode()[0]\n",
    "dummies_df[f'Older'] = aanwezigheid_df[\"Gebruiker_Leeftijd\"] > aanwezigheid_df[\"Gebruiker_Leeftijd\"].mode()[0]\n",
    "\n",
    "dummies_df = pd.concat([dummies_df, pd.get_dummies(aanwezigheid_df['Gebruiker_Studierichting'].replace('Data engineering', 'Data Engineering'), prefix = 'Studierichting')], axis = 1)\n",
    "dummies_df = pd.concat([dummies_df, pd.get_dummies(aanwezigheid_df['Gebruiker_Studiejaar'], prefix = 'Studiejaar')], axis = 1)\n",
    "dummies_df = pd.concat([dummies_df, pd.get_dummies(aanwezigheid_df['Gebruiker_Lidmaatschapstype'], prefix = 'Lidmaatschapstype')], axis = 1)\n",
    "\n",
    "dummies_df"
   ],
   "id": "96b51d40d2d4b2b0",
   "outputs": [],
   "execution_count": null
  },
  {
   "metadata": {},
   "cell_type": "code",
   "source": [
    "# Create frequent itemsets and association rules\n",
    "freq_itemsets = apriori(dummies_df, min_support = 0.1, use_colnames = True)\n",
    "association_rules(freq_itemsets, metric = 'lift', min_threshold = 1.25)"
   ],
   "id": "586c3a4d1fe2e153",
   "outputs": [],
   "execution_count": null
  }
 ],
 "metadata": {
  "kernelspec": {
   "display_name": "Python 3",
   "language": "python",
   "name": "python3"
  },
  "language_info": {
   "codemirror_mode": {
    "name": "ipython",
    "version": 2
   },
   "file_extension": ".py",
   "mimetype": "text/x-python",
   "name": "python",
   "nbconvert_exporter": "python",
   "pygments_lexer": "ipython2",
   "version": "2.7.6"
  }
 },
 "nbformat": 4,
 "nbformat_minor": 5
}
