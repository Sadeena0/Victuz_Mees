{
 "cells": [
  {
   "metadata": {},
   "cell_type": "code",
   "source": [
    "import pandas as pd\n",
    "from mlxtend.frequent_patterns import apriori, association_rules"
   ],
   "id": "e47015334e88be55",
   "outputs": [],
   "execution_count": null
  },
  {
   "metadata": {},
   "cell_type": "code",
   "source": [
    "gebruikers_df = pd.read_csv(r'..\\..\\data\\gebruikersinformatie.csv', delimiter = ';')\n",
    "evenement_df = pd.read_csv(r'..\\..\\data\\evenementinformatie.csv', delimiter = ';')\n",
    "aanwezigheid_df = pd.read_csv(r'..\\..\\data\\evenementaanwezigheid.csv', delimiter = ';')\n",
    "bericht_df = pd.read_csv(r'..\\..\\data\\berichtinteracties_met_sentiment.csv', delimiter = ';')"
   ],
   "id": "88aab4efd729058d",
   "outputs": [],
   "execution_count": null
  },
  {
   "metadata": {},
   "cell_type": "code",
   "source": [
    "# Merge bericht_df with evenement_df\n",
    "bericht_df = bericht_df.merge(evenement_df, on = \"EvenementID\", how = \"left\")\n",
    "\n",
    "# Merge the result with gebruikers_df\n",
    "bericht_df = bericht_df.merge(gebruikers_df, on = \"GebruikerID\", how = \"left\")\n",
    "\n",
    "# Rename columns for consistency\n",
    "bericht_df.rename(\n",
    "    columns = {col: f\"Evenement_{col}\" for col in evenement_df.columns if col != \"EvenementID\"},\n",
    "    inplace = True\n",
    ")\n",
    "\n",
    "bericht_df.rename(\n",
    "    columns = {col: f\"Gebruiker_{col}\" for col in gebruikers_df.columns if col != \"GebruikerID\"},\n",
    "    inplace = True\n",
    ")\n",
    "\n",
    "bericht_df"
   ],
   "id": "bc74392754de1ace",
   "outputs": [],
   "execution_count": null
  },
  {
   "metadata": {},
   "cell_type": "code",
   "source": [
    "# Remove nonvalid entries\n",
    "bericht_df = bericht_df[~(bericht_df['Gebruiker_Leeftijd'].isna())]\n",
    "bericht_df = bericht_df[~(bericht_df['Gebruiker_Lidmaatschapstype'] == 'x')]\n",
    "bericht_df"
   ],
   "id": "93c611538925453c",
   "outputs": [],
   "execution_count": null
  },
  {
   "metadata": {},
   "cell_type": "code",
   "source": [
    "# Convert ID to ints\n",
    "to_convert = [\"BerichtID\", \"GebruikerID\", \"EvenementID\", \"Evenement_OrganisatorID\"]\n",
    "\n",
    "for col in to_convert:\n",
    "    bericht_df[col] = bericht_df[col].str[1:].astype(int)\n",
    "    \n",
    "bericht_df"
   ],
   "id": "e6c11c59898e947e",
   "outputs": [],
   "execution_count": null
  },
  {
   "metadata": {},
   "cell_type": "code",
   "source": [
    "# Convert columns to datetime datatype and extract month\n",
    "date_columns = ['BerichtDatum', 'Evenement_EvenementDatum', 'Gebruiker_RegistratieDatum', 'Gebruiker_LaatsteLogin']\n",
    "\n",
    "for col in date_columns:\n",
    "    bericht_df[col] = pd.to_datetime(bericht_df[col], dayfirst = True)\n",
    "\n",
    "for col in date_columns:\n",
    "    bericht_df[f'{col}_month'] = bericht_df[col].dt.month\n",
    "\n",
    "bericht_df"
   ],
   "id": "69f1592c2a40f0ff",
   "outputs": [],
   "execution_count": null
  },
  {
   "metadata": {},
   "cell_type": "code",
   "source": [
    "# Create boolean dataframe\n",
    "dummies_df = pd.DataFrame()\n",
    "\n",
    "# Bericht columns\n",
    "dummies_df[\"BerichtDatum_is_weekday\"] = bericht_df[\"BerichtDatum\"].dt.weekday < 5\n",
    "dummies_df[\"BerichtDatum_is_weekend\"] = bericht_df[\"BerichtDatum\"].dt.weekday >= 5\n",
    "\n",
    "dummies_df = pd.concat([dummies_df, pd.get_dummies(bericht_df['BerichtSentiment'], prefix = 'BerichtSentiment')], axis = 1)\n",
    "\n",
    "dummies_df[f'Low likes'] = bericht_df[\"OntvangenLikes\"] < bericht_df[\"OntvangenLikes\"].mean()\n",
    "dummies_df[f'High likes'] = bericht_df[\"OntvangenLikes\"] >= bericht_df[\"OntvangenLikes\"].mean()\n",
    "\n",
    "dummies_df[f'Low reacties'] = bericht_df[\"OntvangenReacties\"] < bericht_df[\"OntvangenReacties\"].mean()\n",
    "dummies_df[f'High reacties'] = bericht_df[\"OntvangenReacties\"] >= bericht_df[\"OntvangenReacties\"].mean()\n",
    "\n",
    "\n",
    "# Evenement columns\n",
    "dummies_df = pd.concat([dummies_df, pd.get_dummies(bericht_df['Evenement_EvenementType'], prefix = 'EvenementType')], axis = 1)\n",
    "\n",
    "dummies_df[\"EvenementDatum_is_weekday\"] = bericht_df[\"Evenement_EvenementDatum\"].dt.weekday < 5\n",
    "dummies_df[\"EvenementDatum_is_weekend\"] = bericht_df[\"Evenement_EvenementDatum\"].dt.weekday >= 5\n",
    "\n",
    "dummies_df = pd.concat([dummies_df, pd.get_dummies(bericht_df['Evenement_EvenementDatum_month'], prefix = 'EvenementDatum_month')], axis = 1)\n",
    "\n",
    "\n",
    "# Gebruiker columns\n",
    "dummies_df[f'Younger'] = bericht_df[\"Gebruiker_Leeftijd\"] <= bericht_df[\"Gebruiker_Leeftijd\"].mode()[0]\n",
    "dummies_df[f'Older'] = bericht_df[\"Gebruiker_Leeftijd\"] > bericht_df[\"Gebruiker_Leeftijd\"].mode()[0]\n",
    "\n",
    "dummies_df = pd.concat([dummies_df, pd.get_dummies(bericht_df['Gebruiker_Studierichting'].replace('Data engineering', 'Data Engineering'), prefix = 'Studierichting')], axis = 1)\n",
    "dummies_df = pd.concat([dummies_df, pd.get_dummies(bericht_df['Gebruiker_Studiejaar'], prefix = 'Studiejaar')], axis = 1)\n",
    "dummies_df = pd.concat([dummies_df, pd.get_dummies(bericht_df['Gebruiker_Lidmaatschapstype'], prefix = 'Lidmaatschapstype')], axis = 1)\n",
    "\n",
    "dummies_df"
   ],
   "id": "ef690c48866b05f9",
   "outputs": [],
   "execution_count": null
  },
  {
   "metadata": {},
   "cell_type": "code",
   "source": [
    "# Create frequent itemsets and association rules\n",
    "freq_itemsets = apriori(dummies_df, min_support = 0.1, use_colnames = True)\n",
    "association_rules(freq_itemsets, metric = 'lift', min_threshold = 1.25)"
   ],
   "id": "497cc8620cba7f43",
   "outputs": [],
   "execution_count": null
  }
 ],
 "metadata": {
  "kernelspec": {
   "display_name": "Python 3",
   "language": "python",
   "name": "python3"
  },
  "language_info": {
   "codemirror_mode": {
    "name": "ipython",
    "version": 2
   },
   "file_extension": ".py",
   "mimetype": "text/x-python",
   "name": "python",
   "nbconvert_exporter": "python",
   "pygments_lexer": "ipython2",
   "version": "2.7.6"
  }
 },
 "nbformat": 4,
 "nbformat_minor": 5
}
