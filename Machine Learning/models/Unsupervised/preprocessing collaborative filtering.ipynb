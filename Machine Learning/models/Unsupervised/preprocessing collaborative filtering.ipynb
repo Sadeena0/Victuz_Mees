{
 "cells": [
  {
   "cell_type": "code",
   "id": "initial_id",
   "metadata": {
    "collapsed": true
   },
   "source": "import pandas as pd",
   "outputs": [],
   "execution_count": null
  },
  {
   "metadata": {},
   "cell_type": "code",
   "source": [
    "gebruikers_df = pd.read_csv(r'..\\..\\data\\gebruikersinformatie.csv', delimiter = ';')\n",
    "evenement_df = pd.read_csv(r'..\\..\\data\\evenementinformatie.csv', delimiter = ';')\n",
    "aanwezigheid_df = pd.read_csv(r'..\\..\\data\\evenementaanwezigheid.csv', delimiter = ';')\n",
    "bericht_df = pd.read_csv(r'..\\..\\data\\berichtinteracties_met_sentiment.csv', delimiter = ';')"
   ],
   "id": "278ac915319a4118",
   "outputs": [],
   "execution_count": null
  },
  {
   "metadata": {},
   "cell_type": "code",
   "source": [
    "for col in gebruikers_df.columns:\n",
    "    gebruikers_df = gebruikers_df[~(gebruikers_df[col].isna())]\n",
    "\n",
    "gebruikers_df = gebruikers_df[~(gebruikers_df['Lidmaatschapstype'] == 'x')]"
   ],
   "id": "72ae4e852b35d761",
   "outputs": [],
   "execution_count": null
  },
  {
   "metadata": {},
   "cell_type": "code",
   "source": [
    "#bijgewoond\n",
    "# filtered_events = aanwezigheid_df[aanwezigheid_df['Aanwezigheidsstatus'] == 'Bijgewoond'].copy()\n",
    "\n",
    "#bijgewoond en geregistreerd\n",
    "filtered_events = aanwezigheid_df.copy()\n",
    "filtered_events = filtered_events[~(filtered_events['Aanwezigheidsstatus'] == 'Afwezig')]\n",
    "\n",
    "# remove the 'e' from EvenementID and make it an int\n",
    "filtered_events['EvenementID'] = filtered_events['EvenementID'].str[1:].astype(int)\n",
    "\n",
    "# evenement type ipv id\n",
    "# filtered_events = filtered_events.merge(evenement_df, on='EvenementID', how='left')\n",
    "\n",
    "# Group event attendance data by GebruikerID\n",
    "# if evenement type ipv id: vervang 'EvenementID' door 'EvenementType'\n",
    "events_per_user = filtered_events.groupby('GebruikerID')['EvenementID'].apply(list).reset_index()\n",
    "events_per_user.rename(columns={'EvenementID': 'Geregistreerde evenementen'}, inplace=True)\n",
    "\n",
    "# Merge gebruikers_df with the attended events\n",
    "updated_user_info = gebruikers_df.merge(events_per_user, on='GebruikerID', how='left')\n",
    "\n",
    "# Remove NaN values\n",
    "# updated_user_info = updated_user_info[updated_user_info['Bijgewoonde evenementen'].notnull()]\n",
    "updated_user_info\n"
   ],
   "id": "f02d34a6d7a3eed3",
   "outputs": [],
   "execution_count": null
  },
  {
   "metadata": {},
   "cell_type": "code",
   "source": "",
   "id": "e719b0e6cec0fd3",
   "outputs": [],
   "execution_count": null
  }
 ],
 "metadata": {
  "kernelspec": {
   "display_name": "Python 3",
   "language": "python",
   "name": "python3"
  },
  "language_info": {
   "codemirror_mode": {
    "name": "ipython",
    "version": 2
   },
   "file_extension": ".py",
   "mimetype": "text/x-python",
   "name": "python",
   "nbconvert_exporter": "python",
   "pygments_lexer": "ipython2",
   "version": "2.7.6"
  }
 },
 "nbformat": 4,
 "nbformat_minor": 5
}
