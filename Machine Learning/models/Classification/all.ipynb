{
 "cells": [
  {
   "metadata": {},
   "cell_type": "code",
   "source": [
    "import pandas as pd\n",
    "import matplotlib.pyplot as plt\n",
    "import seaborn as sns\n",
    "from sklearn.linear_model import LogisticRegression\n",
    "from sklearn.neighbors import KNeighborsClassifier\n",
    "\n",
    "from feature_selectors import *\n",
    "from sklearn.neighbors import KNeighborsClassifier\n",
    "from sklearn.preprocessing import StandardScaler\n",
    "from sklearn.model_selection import train_test_split\n",
    "from sklearn.metrics import confusion_matrix"
   ],
   "id": "c8c58e05ab9e7539",
   "outputs": [],
   "execution_count": null
  },
  {
   "metadata": {},
   "cell_type": "code",
   "source": [
    "gebruikers_df = pd.read_csv(r'..\\..\\data\\gebruikersinformatie.csv', delimiter = ';')\n",
    "evenement_df = pd.read_csv(r'..\\..\\data\\evenementinformatie.csv', delimiter = ';')\n",
    "aanwezigheid_df = pd.read_csv(r'..\\..\\data\\evenementaanwezigheid.csv', delimiter = ';')\n",
    "bericht_df = pd.read_csv(r'..\\..\\data\\berichtinteracties_met_sentiment.csv', delimiter = ';')"
   ],
   "id": "edc4d933cdb4f1dc",
   "outputs": [],
   "execution_count": null
  },
  {
   "metadata": {},
   "cell_type": "code",
   "source": [
    "df = merge_on_all(bericht_df, evenement_df, gebruikers_df, aanwezigheid_df)\n",
    "\n",
    "df"
   ],
   "id": "4479e44e343fa8c0",
   "outputs": [],
   "execution_count": null
  },
  {
   "metadata": {},
   "cell_type": "code",
   "source": [
    "# Remove nonvalid entries\n",
    "for col in df.columns:\n",
    "    df = df[~(df[col].isna())]\n",
    "\n",
    "df = df[~(df['Gebruiker_Lidmaatschapstype'] == 'x')]\n",
    "df"
   ],
   "id": "978cb47e945b7a8b",
   "outputs": [],
   "execution_count": null
  },
  {
   "metadata": {},
   "cell_type": "code",
   "source": [
    "# Convert ID to ints\n",
    "to_convert = [\"BerichtID\", \"EvenementID\", \"GebruikerID\", \"Evenement_OrganisatorID\"]\n",
    "\n",
    "for col in to_convert:\n",
    "    df[col] = df[col].str[1:].astype(int)\n",
    "    \n",
    "df"
   ],
   "id": "c69488fecd649e59",
   "outputs": [],
   "execution_count": null
  },
  {
   "metadata": {},
   "cell_type": "code",
   "source": [
    "# Factorize\n",
    "to_factorize = [\"Aanwezigheidsstatus\", \"Gebruiker_Lidmaatschapstype\", \"BerichtSentiment\"]\n",
    "\n",
    "for col in to_factorize:\n",
    "    df[col], unique_values = pd.factorize(df[col])\n",
    "\n",
    "    print(f\"\\n{col} numerics:\")\n",
    "    for i, value in enumerate(unique_values):\n",
    "        print(f\"{i} -> {value}\")\n",
    "        \n",
    "# Change range from -1 (negatief) to 1 (positief)\n",
    "df['BerichtSentiment'] = df['BerichtSentiment'].replace(2, -1)\n",
    "\n",
    "df['Gebruiker_Lidmaatschapstype'] = df['Gebruiker_Lidmaatschapstype'].astype(bool)\n",
    "\n",
    "# Factorize studiejaar with map\n",
    "df[\"Gebruiker_Studiejaar\"] = df[\"Gebruiker_Studiejaar\"].map({\n",
    "    \"eerstejaars\": 1,\n",
    "    \"tweedejaars\": 2,\n",
    "    \"derdejaars\": 3,\n",
    "    \"vierdejaars\": 4\n",
    "})\n",
    "\n",
    "df"
   ],
   "id": "9c4ac82aa71baa0f",
   "outputs": [],
   "execution_count": null
  },
  {
   "metadata": {},
   "cell_type": "code",
   "source": [
    "# Dummies from evenemnttype and studierichting\n",
    "df = pd.concat([df, pd.get_dummies(df['Evenement_EvenementType'], prefix = 'Evenement_EvenementType')], axis = 1)\n",
    "df = pd.concat([df, pd.get_dummies(df['Gebruiker_Studierichting'], prefix = 'Gebruiker_Studierichting')], axis = 1)\n",
    "df.drop(columns = ['Evenement_EvenementType', 'Gebruiker_Studierichting'], axis = 1, inplace = True)\n",
    "\n",
    "df"
   ],
   "id": "17b4a1614fcfe599",
   "outputs": [],
   "execution_count": null
  },
  {
   "metadata": {},
   "cell_type": "code",
   "source": [
    "# Convert columns to datetime datatype\n",
    "date_columns = ['BerichtDatum', 'Evenement_EvenementDatum', 'Gebruiker_RegistratieDatum', 'Gebruiker_LaatsteLogin']\n",
    "\n",
    "for col in date_columns:\n",
    "    df[col] = pd.to_datetime(df[col], dayfirst = True)\n",
    "\n",
    "# Extract date/month/year from datetime columns\n",
    "for col in date_columns:\n",
    "    df[f'{col}_is_weekend'] = df[col].dt.weekday >= 5\n",
    "    df[f'{col}_month'] = df[col].dt.month\n",
    "    # df[f'{col}_year'] = df[col].dt.year\n",
    "    \n",
    "df.drop(columns = date_columns, inplace = True)\n",
    "\n",
    "df"
   ],
   "id": "a0589dcb41a97ec1",
   "outputs": [],
   "execution_count": null
  },
  {
   "metadata": {},
   "cell_type": "code",
   "source": [
    "plt.figure(figsize = (20, 8))\n",
    "sns.heatmap(df.corr(), annot = True)\n",
    "plt.show()"
   ],
   "id": "de8fefc6d9f45b49",
   "outputs": [],
   "execution_count": null
  },
  {
   "metadata": {},
   "cell_type": "code",
   "source": [
    "def get_all_predictors():\n",
    "    all_predictors = df.columns.tolist()\n",
    "    all_predictors.remove('BerichtID')\n",
    "    all_predictors.remove('EvenementID')\n",
    "    all_predictors.remove('GebruikerID')\n",
    "    all_predictors.remove('Evenement_OrganisatorID')\n",
    "\n",
    "    return all_predictors"
   ],
   "id": "f427ca79e26f52aa",
   "outputs": [],
   "execution_count": null
  },
  {
   "metadata": {},
   "cell_type": "code",
   "source": [
    "# scaler = StandardScaler()\n",
    "# scaled_data = scaler.fit_transform(df[all_predictors])\n",
    "# scaled_df = pd.DataFrame(scaled_data, columns = all_predictors)\n",
    "# scaled_df"
   ],
   "id": "aa8573aba85adf47",
   "outputs": [],
   "execution_count": null
  },
  {
   "metadata": {},
   "cell_type": "code",
   "source": [
    "# van alle leden; 0 = aanwezig, 1 = afwezig\n",
    "df['Aanwezigheidsstatus'] = df['Aanwezigheidsstatus'].replace(2, 1).astype('bool', )\n",
    "\n",
    "## van de geregistreerden; aanwezig = 0 en afwezig = 1\n",
    "# df['Aanwezigheidsstatus'] = df['Aanwezigheidsstatus'].astype('bool')\n",
    "\n",
    "model = LogisticRegression(max_iter=10000)\n",
    "# model = KNeighborsClassifier(n_neighbors=1)\n",
    "results = {}\n",
    "\n",
    "outcomes = df.select_dtypes(include='bool').columns.tolist()\n",
    "for outcome in outcomes:\n",
    "    all_predictors = get_all_predictors()\n",
    "    \n",
    "    if 'EvenementType' in outcome:\n",
    "        list = [predictor for predictor in all_predictors if predictor.startswith('Evenement_EvenementType')]\n",
    "        for predictor in list:\n",
    "            all_predictors.remove(predictor)\n",
    "\n",
    "    elif 'Studierichting' in outcome:\n",
    "        list = [predictor for predictor in all_predictors if predictor.startswith('Gebruiker_Studierichting')]\n",
    "        for predictor in list:\n",
    "            all_predictors.remove(predictor)\n",
    "            \n",
    "    else:\n",
    "        all_predictors.remove(outcome)   \n",
    "\n",
    "    predictors, score = selection(model, df, df[outcome], all_predictors, mode='forward', metric='acc')\n",
    "\n",
    "    naive_rule = df[outcome].sum() / df.shape[0]\n",
    "    lift = score / naive_rule\n",
    "\n",
    "    results[outcome] = (score, lift)\n",
    "    \n",
    "    if (score == naive_rule) or (score + naive_rule == 1):\n",
    "        print(\"!Naive rule is equal to score\")\n",
    "\n",
    "    print(\n",
    "        f'Predicting: {outcome}\\nBest predictors: {predictors}\\nScore: {score}\\nNaive rule: {naive_rule}\\nLift: {lift}\\n')\n",
    "\n",
    "\n",
    "results = pd.DataFrame({\n",
    "    'Outcome': results.keys(),\n",
    "    'Score': [value[0] for value in results.values()],\n",
    "    'Lift': [value[1] for value in results.values()]\n",
    "})\n",
    "\n",
    "results"
   ],
   "id": "d1e007201bd22786",
   "outputs": [],
   "execution_count": null
  },
  {
   "metadata": {},
   "cell_type": "code",
   "source": [
    "# outcome = 'Aanwezigheidsstatus'\n",
    "outcome = 'Gebruiker_Lidmaatschapstype'\n",
    "# outcome = 'Evenement_EvenementType_bbq'\n",
    "# outcome = 'Evenement_EvenementType_lezing'\n",
    "# outcome = 'BerichtDatum_is_weekend'\n",
    "# outcome = 'Gebruiker_RegistratieDatum_is_weekend'\n",
    "\n",
    "#als je outcome 'EvenementType' bevat, dan moet je de overige evenement types niet meenemen als predictor\n",
    "if 'EvenementType' in outcome:\n",
    "    list = [predictor for predictor in all_predictors if predictor.startswith('Evenement_EvenementType')]\n",
    "    for predictor in list:\n",
    "        all_predictors.remove(predictor)\n",
    "\n",
    "#als je outcome 'Studierichting' bevat, dan moet je de overige studierichtingen niet meenemen als predictor\n",
    "elif 'Studierichting' in outcome:\n",
    "    list = [predictor for predictor in all_predictors if predictor.startswith('Gebruiker_Studierichting')]\n",
    "    for predictor in list:\n",
    "            all_predictors.remove(predictor)\n",
    "        \n",
    "#verwijder de outcome uit de predictors\n",
    "else:\n",
    "    all_predictors.remove(outcome)\n",
    "        \n",
    "#bepaal de beste predictors voor de outcome\n",
    "predictors, score = selection(model, df, df[outcome], all_predictors, mode='forward', metric='acc')\n",
    "\n",
    "#splits de dataset in train en test            \n",
    "train_x, test_x, train_y, test_y = train_test_split(df[predictors], df[outcome], train_size=0.6, random_state=0)"
   ],
   "id": "412cce3906c9aacb",
   "outputs": [],
   "execution_count": null
  },
  {
   "metadata": {},
   "cell_type": "code",
   "source": [
    "model.fit(train_x, train_y)\n",
    "\n",
    "print('Beta coefficients:')\n",
    "for predictor, coef in zip(all_predictors, model.coef_[0]):\n",
    "    print(f'\\t{predictor}: {coef}')\n",
    "print(f'\\nIntercept: {model.intercept_}')"
   ],
   "id": "25870c0dfd35e523",
   "outputs": [],
   "execution_count": null
  },
  {
   "metadata": {},
   "cell_type": "code",
   "source": [
    "# Verify with train dataset\n",
    "train_pred = model.predict(train_x)\n",
    "train_results = pd.DataFrame({\n",
    "    outcome: train_y,\n",
    "    'Predicted': train_pred\n",
    "})\n",
    "\n",
    "train_results.head()"
   ],
   "id": "43f82fe65d4b5397",
   "outputs": [],
   "execution_count": null
  },
  {
   "metadata": {},
   "cell_type": "code",
   "source": [
    "# Test with test dataset\n",
    "test_pred = model.predict(test_x)\n",
    "test_results = pd.DataFrame({\n",
    "    outcome: test_y,\n",
    "    'Predicted': test_pred\n",
    "})\n",
    "\n",
    "test_results.head()"
   ],
   "id": "e74058533792d9b1",
   "outputs": [],
   "execution_count": null
  },
  {
   "metadata": {},
   "cell_type": "code",
   "source": [
    "print('Train data\\nColumns = predicted\\nRows = true')\n",
    "confusion_matrix(train_y, train_pred)"
   ],
   "id": "d0bbcc60a6559d5a",
   "outputs": [],
   "execution_count": null
  },
  {
   "metadata": {},
   "cell_type": "code",
   "source": [
    "print('Test data\\nColumns = predicted\\nRows = true')\n",
    "confusion_matrix(test_y, test_pred)"
   ],
   "id": "8702d7e332eeb69f",
   "outputs": [],
   "execution_count": null
  },
  {
   "metadata": {},
   "cell_type": "code",
   "source": [
    "# Results\n",
    "print(f'Accuracy for train data: {accuracy_score(train_y, train_pred)}')\n",
    "print(f'Accuracy for test data: {accuracy_score(test_y, test_pred)}')\n",
    "print()\n",
    "print(f'Precision for train data: {precision_score(train_y, train_pred)}')\n",
    "print(f'Precision for test data: {precision_score(test_y, test_pred)}')\n",
    "print()\n",
    "print(f'Recall score for train data: {recall_score(train_y, train_pred)}')\n",
    "print(f'Recall score for test data: {recall_score(test_y, test_pred)}')\n",
    "print()\n",
    "print(f'F1 score for train data: {f1_score(train_y, train_pred)}')\n",
    "print(f'F1 score for test data: {f1_score(test_y, test_pred)}')"
   ],
   "id": "14e352e74318d3d0",
   "outputs": [],
   "execution_count": null
  },
  {
   "metadata": {},
   "cell_type": "code",
   "source": [
    "states = 200\n",
    "metrics = {\n",
    "    \"accuracy_train\": 0, \"accuracy_test\": 0,\n",
    "    \"precision_train\": 0, \"precision_test\": 0,\n",
    "    \"recall_train\": 0, \"recall_test\": 0,\n",
    "    \"f1_train\": 0, \"f1_test\": 0\n",
    "}\n",
    "\n",
    "for state in range(states):\n",
    "    train_x, test_x, train_y, test_y = train_test_split(df[all_predictors], df[outcome], train_size = 0.6, random_state = state)\n",
    "    model.fit(train_x, train_y)\n",
    "\n",
    "    train_pred = model.predict(train_x)\n",
    "    test_pred = model.predict(test_x)\n",
    "\n",
    "    # Update metrics\n",
    "    metrics[\"accuracy_train\"] += accuracy_score(train_y, train_pred)\n",
    "    metrics[\"accuracy_test\"] += accuracy_score(test_y, test_pred)\n",
    "    metrics[\"precision_train\"] += precision_score(train_y, train_pred, zero_division = 0)\n",
    "    metrics[\"precision_test\"] += precision_score(test_y, test_pred, zero_division = 0)\n",
    "    metrics[\"recall_train\"] += recall_score(train_y, train_pred)\n",
    "    metrics[\"recall_test\"] += recall_score(test_y, test_pred)\n",
    "    metrics[\"f1_train\"] += f1_score(train_y, train_pred)\n",
    "    metrics[\"f1_test\"] += f1_score(test_y, test_pred)\n",
    "\n",
    "# Print averaged results\n",
    "for metric, total in metrics.items():\n",
    "    print(f\"Average {metric.replace('_', ' ')}: {total / states}\")"
   ],
   "id": "bd6cbfcf47b6be90",
   "outputs": [],
   "execution_count": null
  }
 ],
 "metadata": {
  "kernelspec": {
   "display_name": "Python 3",
   "language": "python",
   "name": "python3"
  },
  "language_info": {
   "codemirror_mode": {
    "name": "ipython",
    "version": 2
   },
   "file_extension": ".py",
   "mimetype": "text/x-python",
   "name": "python",
   "nbconvert_exporter": "python",
   "pygments_lexer": "ipython2",
   "version": "2.7.6"
  }
 },
 "nbformat": 4,
 "nbformat_minor": 5
}
