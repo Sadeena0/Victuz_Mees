{
 "cells": [
  {
   "metadata": {},
   "cell_type": "code",
   "source": [
    "import pandas as pd\n",
    "import matplotlib.pyplot as plt\n",
    "import seaborn as sns\n",
    "from sklearn.linear_model import LogisticRegression\n",
    "from sklearn.neighbors import KNeighborsClassifier\n",
    "\n",
    "from feature_selectors import *\n",
    "from sklearn.neighbors import KNeighborsClassifier\n",
    "from sklearn.preprocessing import StandardScaler"
   ],
   "id": "c8c58e05ab9e7539",
   "outputs": [],
   "execution_count": null
  },
  {
   "metadata": {},
   "cell_type": "code",
   "source": [
    "gebruikers_df = pd.read_csv(r'..\\..\\data\\gebruikersinformatie.csv', delimiter = ';')\n",
    "evenement_df = pd.read_csv(r'..\\..\\data\\evenementinformatie.csv', delimiter = ';')\n",
    "aanwezigheid_df = pd.read_csv(r'..\\..\\data\\evenementaanwezigheid.csv', delimiter = ';')\n",
    "bericht_df = pd.read_csv(r'..\\..\\data\\berichtinteracties_met_sentiment.csv', delimiter = ';')"
   ],
   "id": "edc4d933cdb4f1dc",
   "outputs": [],
   "execution_count": null
  },
  {
   "metadata": {},
   "cell_type": "code",
   "source": [
    "df = merge_on_all(bericht_df, evenement_df, gebruikers_df, aanwezigheid_df)\n",
    "\n",
    "df"
   ],
   "id": "4479e44e343fa8c0",
   "outputs": [],
   "execution_count": null
  },
  {
   "metadata": {},
   "cell_type": "code",
   "source": [
    "# Remove nonvalid entries\n",
    "for col in df.columns:\n",
    "    df = df[~(df[col].isna())]\n",
    "\n",
    "df = df[~(df['Gebruiker_Lidmaatschapstype'] == 'x')]\n",
    "df"
   ],
   "id": "978cb47e945b7a8b",
   "outputs": [],
   "execution_count": null
  },
  {
   "metadata": {},
   "cell_type": "code",
   "source": [
    "# Convert ID to ints\n",
    "to_convert = [\"BerichtID\", \"EvenementID\", \"GebruikerID\", \"Evenement_OrganisatorID\"]\n",
    "\n",
    "for col in to_convert:\n",
    "    df[col] = df[col].str[1:].astype(int)\n",
    "    \n",
    "df"
   ],
   "id": "c69488fecd649e59",
   "outputs": [],
   "execution_count": null
  },
  {
   "metadata": {},
   "cell_type": "code",
   "source": [
    "# Factorize\n",
    "to_factorize = [\"Aanwezigheidsstatus\", \"Gebruiker_Lidmaatschapstype\", \"BerichtSentiment\"]\n",
    "\n",
    "for col in to_factorize:\n",
    "    df[col], unique_values = pd.factorize(df[col])\n",
    "\n",
    "    print(f\"\\n{col} numerics:\")\n",
    "    for i, value in enumerate(unique_values):\n",
    "        print(f\"{i} -> {value}\")\n",
    "        \n",
    "# Change range from -1 (negatief) to 1 (positief)\n",
    "df['BerichtSentiment'] = df['BerichtSentiment'].replace(2, -1)\n",
    "\n",
    "df['Gebruiker_Lidmaatschapstype'] = df['Gebruiker_Lidmaatschapstype'].astype(bool)\n",
    "\n",
    "# Factorize studiejaar with map\n",
    "df[\"Gebruiker_Studiejaar\"] = df[\"Gebruiker_Studiejaar\"].map({\n",
    "    \"eerstejaars\": 1,\n",
    "    \"tweedejaars\": 2,\n",
    "    \"derdejaars\": 3,\n",
    "    \"vierdejaars\": 4\n",
    "})\n",
    "\n",
    "df"
   ],
   "id": "9c4ac82aa71baa0f",
   "outputs": [],
   "execution_count": null
  },
  {
   "metadata": {},
   "cell_type": "code",
   "source": [
    "# Dummies from evenemnttype and studierichting\n",
    "df = pd.concat([df, pd.get_dummies(df['Evenement_EvenementType'], prefix = 'Evenement_EvenementType')], axis = 1)\n",
    "df = pd.concat([df, pd.get_dummies(df['Gebruiker_Studierichting'], prefix = 'Gebruiker_Studierichting')], axis = 1)\n",
    "df.drop(columns = ['Evenement_EvenementType', 'Gebruiker_Studierichting'], axis = 1, inplace = True)\n",
    "\n",
    "df"
   ],
   "id": "17b4a1614fcfe599",
   "outputs": [],
   "execution_count": null
  },
  {
   "metadata": {},
   "cell_type": "code",
   "source": [
    "# Convert columns to datetime datatype\n",
    "date_columns = ['BerichtDatum', 'Evenement_EvenementDatum', 'Gebruiker_RegistratieDatum', 'Gebruiker_LaatsteLogin']\n",
    "\n",
    "for col in date_columns:\n",
    "    df[col] = pd.to_datetime(df[col], dayfirst = True)\n",
    "\n",
    "# Extract date/month/year from datetime columns\n",
    "for col in date_columns:\n",
    "    df[f'{col}_is_weekend'] = df[col].dt.weekday >= 5\n",
    "    df[f'{col}_month'] = df[col].dt.month\n",
    "    # df[f'{col}_year'] = df[col].dt.year\n",
    "    \n",
    "df.drop(columns = date_columns, inplace = True)\n",
    "\n",
    "df"
   ],
   "id": "a0589dcb41a97ec1",
   "outputs": [],
   "execution_count": null
  },
  {
   "metadata": {},
   "cell_type": "code",
   "source": [
    "plt.figure(figsize = (20, 8))\n",
    "sns.heatmap(df.corr(), annot = True)\n",
    "plt.show()"
   ],
   "id": "de8fefc6d9f45b49",
   "outputs": [],
   "execution_count": null
  },
  {
   "metadata": {},
   "cell_type": "code",
   "source": [
    "def get_all_predictors():\n",
    "    all_predictors = df.columns.tolist()\n",
    "    all_predictors.remove('BerichtID')\n",
    "    all_predictors.remove('EvenementID')\n",
    "    all_predictors.remove('GebruikerID')\n",
    "    all_predictors.remove('Evenement_OrganisatorID')\n",
    "\n",
    "    return all_predictors"
   ],
   "id": "f427ca79e26f52aa",
   "outputs": [],
   "execution_count": null
  },
  {
   "metadata": {},
   "cell_type": "code",
   "source": [
    "# scaler = StandardScaler()\n",
    "# scaled_data = scaler.fit_transform(df[all_predictors])\n",
    "# scaled_df = pd.DataFrame(scaled_data, columns = all_predictors)\n",
    "# scaled_df"
   ],
   "id": "aa8573aba85adf47",
   "outputs": [],
   "execution_count": null
  },
  {
   "metadata": {},
   "cell_type": "code",
   "source": [
    "# Aanwezigheidsstatus (0 = aanwezig, 1 = afwezig)\n",
    "df['Aanwezigheidsstatus'] = df['Aanwezigheidsstatus'].replace(2, 1).astype('bool', )\n",
    "\n",
    "model = LogisticRegression(max_iter=10000)\n",
    "# model = KNeighborsClassifier(n_neighbors=1)\n",
    "results = {}\n",
    "\n",
    "outcomes = df.select_dtypes(include='bool').columns.tolist()\n",
    "for outcome in outcomes:\n",
    "    all_predictors = get_all_predictors()\n",
    "    all_predictors.remove(outcome)\n",
    "\n",
    "    predictors, score = selection(model, df, df[outcome], all_predictors, mode='forward', metric='acc')\n",
    "\n",
    "    naive_rule = df[outcome].sum() / df.shape[0]\n",
    "    lift = score / naive_rule\n",
    "\n",
    "    results[outcome] = (score, lift)\n",
    "\n",
    "    print(\n",
    "        f'Predicting: {outcome}\\nBest predictors: {predictors}\\nScore: {score}\\nNaive rule: {naive_rule}\\nLift: {lift}\\n')\n",
    "\n",
    "results = pd.DataFrame({\n",
    "    'Outcome': results.keys(),\n",
    "    'Score': [value[0] for value in results.values()],\n",
    "    'Lift': [value[1] for value in results.values()]\n",
    "})\n",
    "\n",
    "results"
   ],
   "id": "d1e007201bd22786",
   "outputs": [],
   "execution_count": null
  },
  {
   "metadata": {},
   "cell_type": "code",
   "source": [
    "# from mlxtend.feature_selection import SequentialFeatureSelector as SFS\n",
    "# from sklearn.metrics import accuracy_score\n",
    "# \n",
    "# sfs = SFS(model,\n",
    "#           k_features = 'best',\n",
    "#           forward = True,\n",
    "#           floating = False,\n",
    "#           scoring = 'accuracy',\n",
    "#           cv = 10)\n",
    "# \n",
    "# sfs = sfs.fit(df[predictors], df[outcomes])\n",
    "# \n",
    "# print(f\"Selected features: {list(sfs.k_feature_names_)}\")\n",
    "# print(f'Score: {sfs.k_score_}')\n",
    "# print(f'Naive rule: {df[outcomes].sum() / df.shape[0]}')"
   ],
   "id": "a3177ffb5d85dc1a",
   "outputs": [],
   "execution_count": null
  }
 ],
 "metadata": {
  "kernelspec": {
   "display_name": "Python 3",
   "language": "python",
   "name": "python3"
  },
  "language_info": {
   "codemirror_mode": {
    "name": "ipython",
    "version": 2
   },
   "file_extension": ".py",
   "mimetype": "text/x-python",
   "name": "python",
   "nbconvert_exporter": "python",
   "pygments_lexer": "ipython2",
   "version": "2.7.6"
  }
 },
 "nbformat": 4,
 "nbformat_minor": 5
}
