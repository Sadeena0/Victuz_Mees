{
 "cells": [
  {
   "metadata": {},
   "cell_type": "code",
   "source": [
    "import pandas as pd\n",
    "import matplotlib.pyplot as plt\n",
    "import seaborn as sns\n",
    "from sklearn.linear_model import LinearRegression\n",
    "\n",
    "from feature_selectors import selection\n",
    "from sklearn.preprocessing import StandardScaler"
   ],
   "id": "58b418fc34724445",
   "outputs": [],
   "execution_count": null
  },
  {
   "metadata": {},
   "cell_type": "code",
   "source": [
    "gebruikers_df = pd.read_csv(r'..\\..\\data\\gebruikersinformatie.csv', delimiter = ';')\n",
    "evenement_df = pd.read_csv(r'..\\..\\data\\evenementinformatie.csv', delimiter = ';')\n",
    "aanwezigheid_df = pd.read_csv(r'..\\..\\data\\evenementaanwezigheid.csv', delimiter = ';')\n",
    "bericht_df = pd.read_csv(r'..\\..\\data\\berichtinteracties_met_sentiment.csv', delimiter = ';')"
   ],
   "id": "88aab4efd729058d",
   "outputs": [],
   "execution_count": null
  },
  {
   "metadata": {},
   "cell_type": "code",
   "source": [
    "# Merge bericht_df with evenement_df\n",
    "bericht_df = bericht_df.merge(evenement_df, on = \"EvenementID\", how = \"left\")\n",
    "\n",
    "# Merge the result with gebruikers_df\n",
    "bericht_df = bericht_df.merge(gebruikers_df, on = \"GebruikerID\", how = \"left\")\n",
    "\n",
    "# Rename columns for consistency\n",
    "bericht_df.rename(\n",
    "    columns = {col: f\"Evenement_{col}\" for col in evenement_df.columns if col != \"EvenementID\"},\n",
    "    inplace = True\n",
    ")\n",
    "\n",
    "bericht_df.rename(\n",
    "    columns = {col: f\"Gebruiker_{col}\" for col in gebruikers_df.columns if col != \"GebruikerID\"},\n",
    "    inplace = True\n",
    ")\n",
    "\n",
    "bericht_df"
   ],
   "id": "bc74392754de1ace",
   "outputs": [],
   "execution_count": null
  },
  {
   "metadata": {},
   "cell_type": "code",
   "source": [
    "# Remove nonvalid entries\n",
    "bericht_df = bericht_df[~(bericht_df['Gebruiker_Leeftijd'].isna())]\n",
    "bericht_df = bericht_df[~(bericht_df['Gebruiker_Lidmaatschapstype'] == 'x')]\n",
    "bericht_df"
   ],
   "id": "93c611538925453c",
   "outputs": [],
   "execution_count": null
  },
  {
   "metadata": {},
   "cell_type": "code",
   "source": [
    "# Convert ID to ints\n",
    "to_convert = [\"BerichtID\", \"GebruikerID\", \"EvenementID\", \"Evenement_OrganisatorID\"]\n",
    "\n",
    "for col in to_convert:\n",
    "    bericht_df[col] = bericht_df[col].str[1:].astype(int)\n",
    "    \n",
    "bericht_df"
   ],
   "id": "e6c11c59898e947e",
   "outputs": [],
   "execution_count": null
  },
  {
   "metadata": {},
   "cell_type": "code",
   "source": [
    "# Factorize\n",
    "to_factorize = [\"BerichtSentiment\", \"Evenement_EvenementType\", \"Gebruiker_Studierichting\", \"Gebruiker_Lidmaatschapstype\"]\n",
    "\n",
    "for col in to_factorize:\n",
    "    bericht_df[col], unique_values = pd.factorize(bericht_df[col])\n",
    "\n",
    "    print(f\"\\n{col} numerics:\")\n",
    "    for i, value in enumerate(unique_values):\n",
    "        print(f\"{i} -> {value}\")\n",
    "\n",
    "bericht_df[\"Gebruiker_Studiejaar\"] = bericht_df[\"Gebruiker_Studiejaar\"].map({\n",
    "    \"Eerstejaars\": 1,\n",
    "    \"Tweedejaars\": 2,\n",
    "    \"Derdejaars\": 3,\n",
    "    \"Vierdejaars\": 4\n",
    "})\n",
    "\n",
    "bericht_df"
   ],
   "id": "96b51d40d2d4b2b0",
   "outputs": [],
   "execution_count": null
  },
  {
   "metadata": {},
   "cell_type": "code",
   "source": [
    "# Convert columns to datetime datatype and extract day/month/year\n",
    "date_columns = ['BerichtDatum', 'Evenement_EvenementDatum', 'Gebruiker_RegistratieDatum','Gebruiker_LaatsteLogin']\n",
    "\n",
    "for col in date_columns:\n",
    "    bericht_df[col] = pd.to_datetime(bericht_df[col], dayfirst=True)\n",
    "    \n",
    "for col in date_columns:\n",
    "    bericht_df[f'{col}_day'] = bericht_df[col].dt.day\n",
    "    bericht_df[f'{col}_month'] = bericht_df[col].dt.month\n",
    "    bericht_df[f'{col}_year'] = bericht_df[col].dt.year\n",
    "    \n",
    "bericht_df.drop(columns = date_columns, inplace = True)\n",
    "\n",
    "bericht_df"
   ],
   "id": "69f1592c2a40f0ff",
   "outputs": [],
   "execution_count": null
  },
  {
   "metadata": {},
   "cell_type": "code",
   "source": [
    "plt.figure(figsize = (20, 8))\n",
    "sns.heatmap(bericht_df.corr(), annot = True)\n",
    "plt.show()"
   ],
   "id": "b3189c80e67d02",
   "outputs": [],
   "execution_count": null
  },
  {
   "metadata": {},
   "cell_type": "code",
   "source": [
    "# Test all outcomes to see which has the highest score\n",
    "model = LinearRegression()\n",
    "results = {}\n",
    "\n",
    "for outcome in bericht_df.columns.tolist():\n",
    "    test_predictors = bericht_df.columns.tolist()\n",
    "    test_predictors.remove(outcome)\n",
    "\n",
    "    predictors, score = selection(model, bericht_df, bericht_df[outcome], test_predictors, mode = \"forward\",\n",
    "                                  metric = \"adj_r2\")\n",
    "\n",
    "    # results[outcome] = (score, predictors)\n",
    "    results[outcome] = score\n",
    "\n",
    "print('\\n\\nOutcome\\t\\t\\tScore')\n",
    "for key, value in results.items():\n",
    "    # print(f'{key} -> {value[0]}')\n",
    "    print(f'{key} -> {value}')"
   ],
   "id": "643db8502f8ca110",
   "outputs": [],
   "execution_count": null
  }
 ],
 "metadata": {
  "kernelspec": {
   "display_name": "Python 3",
   "language": "python",
   "name": "python3"
  },
  "language_info": {
   "codemirror_mode": {
    "name": "ipython",
    "version": 2
   },
   "file_extension": ".py",
   "mimetype": "text/x-python",
   "name": "python",
   "nbconvert_exporter": "python",
   "pygments_lexer": "ipython2",
   "version": "2.7.6"
  }
 },
 "nbformat": 4,
 "nbformat_minor": 5
}
