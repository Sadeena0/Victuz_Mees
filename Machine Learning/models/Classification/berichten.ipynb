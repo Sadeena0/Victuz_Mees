{
 "cells": [
  {
   "metadata": {},
   "cell_type": "code",
   "source": [
    "import pandas as pd\n",
    "import matplotlib.pyplot as plt\n",
    "import seaborn as sns\n",
    "from sklearn.linear_model import LogisticRegression\n",
    "\n",
    "from feature_selectors import *\n",
    "from sklearn.preprocessing import StandardScaler\n",
    "from sklearn.model_selection import train_test_split\n",
    "from sklearn.metrics import confusion_matrix"
   ],
   "id": "58b418fc34724445",
   "outputs": [],
   "execution_count": null
  },
  {
   "metadata": {},
   "cell_type": "code",
   "source": [
    "gebruikers_df = pd.read_csv(r'..\\..\\data\\gebruikersinformatie.csv', delimiter = ';')\n",
    "evenement_df = pd.read_csv(r'..\\..\\data\\evenementinformatie.csv', delimiter = ';')\n",
    "aanwezigheid_df = pd.read_csv(r'..\\..\\data\\evenementaanwezigheid.csv', delimiter = ';')\n",
    "bericht_df = pd.read_csv(r'..\\..\\data\\berichtinteracties_met_sentiment.csv', delimiter = ';')"
   ],
   "id": "88aab4efd729058d",
   "outputs": [],
   "execution_count": null
  },
  {
   "metadata": {},
   "cell_type": "code",
   "source": [
    "df = merge_on_bericht(bericht_df, evenement_df, gebruikers_df)\n",
    "\n",
    "df"
   ],
   "id": "bc74392754de1ace",
   "outputs": [],
   "execution_count": null
  },
  {
   "metadata": {},
   "cell_type": "code",
   "source": [
    "# Remove nonvalid entries\n",
    "for col in df.columns:\n",
    "    df = df[~(df[col].isna())]\n",
    "\n",
    "df = df[~(df['Gebruiker_Lidmaatschapstype'] == 'x')]\n",
    "df"
   ],
   "id": "93c611538925453c",
   "outputs": [],
   "execution_count": null
  },
  {
   "metadata": {},
   "cell_type": "code",
   "source": [
    "# Convert ID to ints\n",
    "to_convert = [\"BerichtID\", \"GebruikerID\", \"EvenementID\", \"Evenement_OrganisatorID\"]\n",
    "\n",
    "for col in to_convert:\n",
    "    df[col] = df[col].str[1:].astype(int)\n",
    "    \n",
    "df"
   ],
   "id": "e6c11c59898e947e",
   "outputs": [],
   "execution_count": null
  },
  {
   "metadata": {},
   "cell_type": "code",
   "source": [
    "# Factorize\n",
    "to_factorize = [\"BerichtSentiment\", \"Gebruiker_Lidmaatschapstype\"]\n",
    "\n",
    "for col in to_factorize:\n",
    "    df[col], unique_values = pd.factorize(df[col])\n",
    "\n",
    "    print(f\"\\n{col} numerics:\")\n",
    "    for i, value in enumerate(unique_values):\n",
    "        print(f\"{i} -> {value}\")\n",
    "\n",
    "# Change range from -1 (negatief) to 1 (positief)\n",
    "df['BerichtSentiment'] = df['BerichtSentiment'].replace(2, -1)\n",
    "\n",
    "df['Gebruiker_Lidmaatschapstype'] = df['Gebruiker_Lidmaatschapstype'].astype(bool)\n",
    "\n",
    "# Factorize studiejaar with map\n",
    "df[\"Gebruiker_Studiejaar\"] = df[\"Gebruiker_Studiejaar\"].map({\n",
    "    \"eerstejaars\": 1,\n",
    "    \"tweedejaars\": 2,\n",
    "    \"derdejaars\": 3,\n",
    "    \"vierdejaars\": 4\n",
    "})\n",
    "\n",
    "df"
   ],
   "id": "96b51d40d2d4b2b0",
   "outputs": [],
   "execution_count": null
  },
  {
   "metadata": {},
   "cell_type": "code",
   "source": [
    "# Dummies from evenemnttype and studierichting\n",
    "df = pd.concat([df, pd.get_dummies(df['Evenement_EvenementType'], prefix = 'Evenement_EvenementType')], axis = 1)\n",
    "df = pd.concat([df, pd.get_dummies(df['Gebruiker_Studierichting'], prefix = 'Gebruiker_Studierichting')], axis = 1)\n",
    "df.drop(columns = ['Evenement_EvenementType', 'Gebruiker_Studierichting'], axis = 1, inplace = True)\n",
    "\n",
    "df"
   ],
   "id": "472ce61f83cf603e",
   "outputs": [],
   "execution_count": null
  },
  {
   "metadata": {},
   "cell_type": "code",
   "source": [
    "# Convert columns to datetime datatype\n",
    "date_columns = ['BerichtDatum', 'Evenement_EvenementDatum', 'Gebruiker_RegistratieDatum','Gebruiker_LaatsteLogin']\n",
    "\n",
    "for col in date_columns:\n",
    "    df[col] = pd.to_datetime(df[col], dayfirst=True)\n",
    "    \n",
    "# Extracte date/month/year from datetime columns\n",
    "for col in date_columns:\n",
    "    df[f'{col}_is_weekend'] = df[col].dt.weekday >= 5\n",
    "    df[f'{col}_month'] = df[col].dt.month\n",
    "    # df[f'{col}_year'] = df[col].dt.year\n",
    "    \n",
    "df.drop(columns = date_columns, inplace = True)\n",
    "\n",
    "df"
   ],
   "id": "69f1592c2a40f0ff",
   "outputs": [],
   "execution_count": null
  },
  {
   "metadata": {},
   "cell_type": "code",
   "source": [
    "plt.figure(figsize = (20, 8))\n",
    "sns.heatmap(df.corr(), annot = True)\n",
    "plt.show()"
   ],
   "id": "b3189c80e67d02",
   "outputs": [],
   "execution_count": null
  },
  {
   "metadata": {},
   "cell_type": "code",
   "source": [
    "def get_all_predictors():\n",
    "    all_predictors = df.columns.tolist()\n",
    "    all_predictors.remove('BerichtID')\n",
    "    all_predictors.remove('EvenementID')\n",
    "    all_predictors.remove('GebruikerID')\n",
    "    all_predictors.remove('Evenement_OrganisatorID')\n",
    "\n",
    "    return all_predictors"
   ],
   "id": "71de8b6683d31d1b",
   "outputs": [],
   "execution_count": null
  },
  {
   "metadata": {},
   "cell_type": "code",
   "source": [
    "# scaler = StandardScaler()\n",
    "# scaled_data = scaler.fit_transform(df[all_predictors])\n",
    "# scaled_df = pd.DataFrame(scaled_data, columns = all_predictors)\n",
    "# scaled_df"
   ],
   "id": "6696cdc5a37c1b52",
   "outputs": [],
   "execution_count": null
  },
  {
   "metadata": {},
   "cell_type": "code",
   "source": [
    "model = LogisticRegression(max_iter = 10000)\n",
    "results = {}\n",
    "\n",
    "outcomes = df.select_dtypes(include='bool').columns.tolist()\n",
    "for outcome in outcomes:\n",
    "    all_predictors = get_all_predictors()\n",
    "    \n",
    "    if 'EvenementType' in outcome:\n",
    "        list = [predictor for predictor in all_predictors if predictor.startswith('Evenement_EvenementType')]\n",
    "        for predictor in list:\n",
    "            all_predictors.remove(predictor)\n",
    "\n",
    "    elif 'Studierichting' in outcome:\n",
    "        list = [predictor for predictor in all_predictors if predictor.startswith('Gebruiker_Studierichting')]\n",
    "        for predictor in list:\n",
    "            all_predictors.remove(predictor)\n",
    "            \n",
    "    else:\n",
    "        all_predictors.remove(outcome)    \n",
    "\n",
    "    predictors, score = selection(model, df, df[outcome], all_predictors, mode='forward', metric='acc')\n",
    "\n",
    "    naive_rule = df[outcome].sum() / df.shape[0]\n",
    "    lift = score / naive_rule\n",
    "\n",
    "    results[outcome] = (score, lift)\n",
    "    \n",
    "    if (score == naive_rule) or (score + naive_rule == 1):\n",
    "        print(\"!Naive rule is equal to score\")\n",
    "\n",
    "    print(\n",
    "        f'Predicting: {outcome}\\nBest predictors: {predictors}\\nScore: {score}\\nNaive rule: {naive_rule}\\nLift: {lift}\\n')\n",
    "    \n",
    "results = pd.DataFrame({\n",
    "    'Outcome': results.keys(),\n",
    "    'Score': [value[0] for value in results.values()],\n",
    "    'Lift': [value[1] for value in results.values()]\n",
    "})\n",
    "\n",
    "results"
   ],
   "id": "5fa24f2166c900f8",
   "outputs": [],
   "execution_count": null
  },
  {
   "metadata": {},
   "cell_type": "code",
   "source": "#alleen lidmaatschapstype en evenementtype bbq",
   "id": "3f84a46fa58f1728",
   "outputs": [],
   "execution_count": null
  },
  {
   "metadata": {},
   "cell_type": "code",
   "source": [
    "outcome = 'Gebruiker_Lidmaatschapstype'\n",
    "# outcome = 'Evenement_EvenementType_bbq'\n",
    "\n",
    "#als je outcome 'EvenementType' bevat, dan moet je de overige evenement types niet meenemen als predictor\n",
    "if 'EvenementType' in outcome:\n",
    "    list = [predictor for predictor in all_predictors if predictor.startswith('Evenement_EvenementType')]\n",
    "    for predictor in list:\n",
    "        all_predictors.remove(predictor)\n",
    "\n",
    "#als je outcome 'Studierichting' bevat, dan moet je de overige studierichtingen niet meenemen als predictor\n",
    "elif 'Studierichting' in outcome:\n",
    "    list = [predictor for predictor in all_predictors if predictor.startswith('Gebruiker_Studierichting')]\n",
    "    for predictor in list:\n",
    "            all_predictors.remove(predictor)\n",
    "        \n",
    "#verwijder de outcome uit de predictors\n",
    "else:\n",
    "    all_predictors.remove(outcome)\n",
    "        \n",
    "#bepaal de beste predictors voor de outcome\n",
    "predictors, score = selection(model, df, df[outcome], all_predictors, mode='forward', metric='acc')\n",
    "\n",
    "#splits de dataset in train en test            \n",
    "train_x, test_x, train_y, test_y = train_test_split(df[predictors], df[outcome], train_size=0.6, random_state=0)"
   ],
   "id": "bf6381036d65a7c1",
   "outputs": [],
   "execution_count": null
  },
  {
   "metadata": {},
   "cell_type": "code",
   "source": [
    "# Train model\n",
    "model.fit(train_x, train_y)\n",
    "\n",
    "print('Beta coefficients:')\n",
    "for predictor, coef in zip(all_predictors, model.coef_[0]):\n",
    "    print(f'\\t{predictor}: {coef}')\n",
    "print(f'\\nIntercept: {model.intercept_}')"
   ],
   "id": "8646cbe51dd7c055",
   "outputs": [],
   "execution_count": null
  },
  {
   "metadata": {},
   "cell_type": "code",
   "source": [
    "# Verify with train dataset\n",
    "train_pred = model.predict(train_x)\n",
    "train_results = pd.DataFrame({\n",
    "    outcome: train_y,\n",
    "    'Predicted': train_pred\n",
    "})\n",
    "\n",
    "train_results.head()"
   ],
   "id": "4ae84cf835d3eb65",
   "outputs": [],
   "execution_count": null
  },
  {
   "metadata": {},
   "cell_type": "code",
   "source": [
    "# Test with test dataset\n",
    "test_pred = model.predict(test_x)\n",
    "test_results = pd.DataFrame({\n",
    "    outcome: test_y,\n",
    "    'Predicted': test_pred\n",
    "})\n",
    "\n",
    "test_results.head()"
   ],
   "id": "51dc2af23ee56d34",
   "outputs": [],
   "execution_count": null
  },
  {
   "metadata": {},
   "cell_type": "code",
   "source": [
    "print('Train data\\nColumns = predicted\\nRows = true')\n",
    "confusion_matrix(train_y, train_pred)"
   ],
   "id": "3ed9d6c082c8382b",
   "outputs": [],
   "execution_count": null
  },
  {
   "metadata": {},
   "cell_type": "code",
   "source": [
    "print('Test data\\nColumns = predicted\\nRows = true')\n",
    "confusion_matrix(test_y, test_pred)"
   ],
   "id": "21e2454f21da41fa",
   "outputs": [],
   "execution_count": null
  },
  {
   "metadata": {},
   "cell_type": "code",
   "source": [
    "# Results\n",
    "print(f'Accuracy for train data: {accuracy_score(train_y, train_pred)}')\n",
    "print(f'Accuracy for test data: {accuracy_score(test_y, test_pred)}')\n",
    "print()\n",
    "print(f'Precision for train data: {precision_score(train_y, train_pred)}')\n",
    "print(f'Precision for test data: {precision_score(test_y, test_pred)}')\n",
    "print()\n",
    "print(f'Recall score for train data: {recall_score(train_y, train_pred)}')\n",
    "print(f'Recall score for test data: {recall_score(test_y, test_pred)}')\n",
    "print()\n",
    "print(f'F1 score for train data: {f1_score(train_y, train_pred)}')\n",
    "print(f'F1 score for test data: {f1_score(test_y, test_pred)}')"
   ],
   "id": "c392871e8a31e4ce",
   "outputs": [],
   "execution_count": null
  },
  {
   "metadata": {},
   "cell_type": "code",
   "source": [
    "states = 200\n",
    "metrics = {\n",
    "    \"accuracy_train\": 0, \"accuracy_test\": 0,\n",
    "    \"precision_train\": 0, \"precision_test\": 0,\n",
    "    \"recall_train\": 0, \"recall_test\": 0,\n",
    "    \"f1_train\": 0, \"f1_test\": 0\n",
    "}\n",
    "\n",
    "for state in range(states):\n",
    "    train_x, test_x, train_y, test_y = train_test_split(df[all_predictors], df[outcome], train_size = 0.6, random_state = state)\n",
    "    model.fit(train_x, train_y)\n",
    "\n",
    "    train_pred = model.predict(train_x)\n",
    "    test_pred = model.predict(test_x)\n",
    "\n",
    "    # Update metrics\n",
    "    metrics[\"accuracy_train\"] += accuracy_score(train_y, train_pred)\n",
    "    metrics[\"accuracy_test\"] += accuracy_score(test_y, test_pred)\n",
    "    metrics[\"precision_train\"] += precision_score(train_y, train_pred, zero_division = 0)\n",
    "    metrics[\"precision_test\"] += precision_score(test_y, test_pred, zero_division = 0)\n",
    "    metrics[\"recall_train\"] += recall_score(train_y, train_pred)\n",
    "    metrics[\"recall_test\"] += recall_score(test_y, test_pred)\n",
    "    metrics[\"f1_train\"] += f1_score(train_y, train_pred)\n",
    "    metrics[\"f1_test\"] += f1_score(test_y, test_pred)\n",
    "\n",
    "# Print averaged results\n",
    "for metric, total in metrics.items():\n",
    "    print(f\"Average {metric.replace('_', ' ')}: {total / states}\")"
   ],
   "id": "336f8f913f4b8958",
   "outputs": [],
   "execution_count": null
  },
  {
   "metadata": {},
   "cell_type": "code",
   "source": "",
   "id": "683d60c93e80ced3",
   "outputs": [],
   "execution_count": null
  }
 ],
 "metadata": {
  "kernelspec": {
   "display_name": "Python 3",
   "language": "python",
   "name": "python3"
  },
  "language_info": {
   "codemirror_mode": {
    "name": "ipython",
    "version": 2
   },
   "file_extension": ".py",
   "mimetype": "text/x-python",
   "name": "python",
   "nbconvert_exporter": "python",
   "pygments_lexer": "ipython2",
   "version": "2.7.6"
  }
 },
 "nbformat": 4,
 "nbformat_minor": 5
}
