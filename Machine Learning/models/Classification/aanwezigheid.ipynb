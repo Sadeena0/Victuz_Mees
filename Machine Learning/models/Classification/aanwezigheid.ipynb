{
 "cells": [
  {
   "metadata": {},
   "cell_type": "code",
   "source": [
    "import pandas as pd\n",
    "import matplotlib.pyplot as plt\n",
    "import seaborn as sns\n",
    "from sklearn.linear_model import LogisticRegression\n",
    "\n",
    "from feature_selectors import *\n",
    "from sklearn.preprocessing import StandardScaler"
   ],
   "id": "58b418fc34724445",
   "outputs": [],
   "execution_count": null
  },
  {
   "metadata": {},
   "cell_type": "code",
   "source": [
    "gebruikers_df = pd.read_csv(r'..\\..\\data\\gebruikersinformatie.csv', delimiter = ';')\n",
    "evenement_df = pd.read_csv(r'..\\..\\data\\evenementinformatie.csv', delimiter = ';')\n",
    "aanwezigheid_df = pd.read_csv(r'..\\..\\data\\evenementaanwezigheid.csv', delimiter = ';')\n",
    "bericht_df = pd.read_csv(r'..\\..\\data\\berichtinteracties_met_sentiment.csv', delimiter = ';')"
   ],
   "id": "88aab4efd729058d",
   "outputs": [],
   "execution_count": null
  },
  {
   "metadata": {},
   "cell_type": "code",
   "source": [
    "df = merge_on_aanwezigheid(aanwezigheid_df, evenement_df, gebruikers_df)\n",
    "\n",
    "df"
   ],
   "id": "a10ad5b92501aac3",
   "outputs": [],
   "execution_count": null
  },
  {
   "metadata": {},
   "cell_type": "code",
   "source": [
    "# Remove nonvalid entries\n",
    "for col in df.columns:\n",
    "    df = df[~(df[col].isna())]\n",
    "\n",
    "df = df[~(df['Gebruiker_Lidmaatschapstype'] == 'x')]\n",
    "df"
   ],
   "id": "93c611538925453c",
   "outputs": [],
   "execution_count": null
  },
  {
   "metadata": {},
   "cell_type": "code",
   "source": [
    "# Convert ID to ints\n",
    "to_convert = [\"EvenementID\", \"GebruikerID\", \"Evenement_OrganisatorID\"]\n",
    "\n",
    "for col in to_convert:\n",
    "    df[col] = df[col].str[1:].astype(int)\n",
    "    \n",
    "df"
   ],
   "id": "e6c11c59898e947e",
   "outputs": [],
   "execution_count": null
  },
  {
   "metadata": {},
   "cell_type": "code",
   "source": [
    "# Factorize\n",
    "to_factorize = [\"Aanwezigheidsstatus\", \"Gebruiker_Lidmaatschapstype\"]\n",
    "\n",
    "for col in to_factorize:\n",
    "    df[col], unique_values = pd.factorize(df[col])\n",
    "\n",
    "    print(f\"\\n{col} numerics:\")\n",
    "    for i, value in enumerate(unique_values):\n",
    "        print(f\"{i} -> {value}\")\n",
    "\n",
    "df = pd.concat([df, pd.get_dummies(df['Evenement_EvenementType'], prefix = 'Evenement_EvenementType')], axis = 1)\n",
    "df = pd.concat([df, pd.get_dummies(df['Gebruiker_Studierichting'], prefix = 'Gebruiker_Studierichting')], axis = 1)\n",
    "df.drop(columns = ['Evenement_EvenementType', 'Gebruiker_Studierichting'], axis = 1, inplace = True)\n",
    "\n",
    "df[\"Gebruiker_Studiejaar\"] = df[\"Gebruiker_Studiejaar\"].map({\n",
    "    \"eerstejaars\": 1,\n",
    "    \"tweedejaars\": 2,\n",
    "    \"derdejaars\": 3,\n",
    "    \"vierdejaars\": 4\n",
    "})\n",
    "\n",
    "df"
   ],
   "id": "96b51d40d2d4b2b0",
   "outputs": [],
   "execution_count": null
  },
  {
   "metadata": {},
   "cell_type": "code",
   "source": [
    "# Convert columns to datetime datatype and extract day/month/year\n",
    "date_columns = ['Evenement_EvenementDatum', 'Gebruiker_RegistratieDatum', 'Gebruiker_LaatsteLogin']\n",
    "\n",
    "for col in date_columns:\n",
    "    df[col] = pd.to_datetime(df[col], dayfirst = True)\n",
    "\n",
    "for col in date_columns:\n",
    "    df[f'{col}_is_weekend'] = df[col].dt.weekday >= 5\n",
    "    df[f'{col}_month'] = df[col].dt.month\n",
    "    # df[f'{col}_year'] = df[col].dt.year\n",
    "    \n",
    "df.drop(columns = date_columns, inplace = True)\n",
    "\n",
    "df"
   ],
   "id": "69f1592c2a40f0ff",
   "outputs": [],
   "execution_count": null
  },
  {
   "metadata": {},
   "cell_type": "code",
   "source": [
    "# df[f'Young'] = df[\"Gebruiker_Leeftijd\"] <= df[\"Gebruiker_Leeftijd\"].median()\n",
    "# # df[f'Old'] = df[\"Gebruiker_Leeftijd\"] > df[\"Gebruiker_Leeftijd\"].mode()[0]\n",
    "# \n",
    "# df.drop(columns = ['Gebruiker_Leeftijd'], inplace = True)\n",
    "# \n",
    "# df"
   ],
   "id": "ea8d6b987a80e04d",
   "outputs": [],
   "execution_count": null
  },
  {
   "metadata": {},
   "cell_type": "code",
   "source": [
    "plt.figure(figsize = (20, 8))\n",
    "sns.heatmap(df.corr(), annot = True)\n",
    "plt.show()"
   ],
   "id": "b3189c80e67d02",
   "outputs": [],
   "execution_count": null
  },
  {
   "metadata": {},
   "cell_type": "code",
   "source": [
    "# # Try predicting Aanwezigheidsstatus (0 = aanwezig, 1 = afwezig)\n",
    "# df['Aanwezigheidsstatus'] = df['Aanwezigheidsstatus'].replace(2, 1)\n",
    "\n",
    "all_predictors = df.columns.tolist()\n",
    "outcome = 'Gebruiker_Lidmaatschapstype'\n",
    "\n",
    "all_predictors.remove(outcome)\n",
    "all_predictors.remove('EvenementID')\n",
    "all_predictors.remove('GebruikerID')\n",
    "all_predictors.remove('Evenement_OrganisatorID')\n",
    "\n",
    "model = LogisticRegression(max_iter = 10000)"
   ],
   "id": "cf649df4f68367a3",
   "outputs": [],
   "execution_count": null
  },
  {
   "metadata": {},
   "cell_type": "code",
   "source": "predictors, score = selection(model, df, df[outcome], all_predictors, mode = 'forward', metric = 'acc')",
   "id": "f0cdf7b9b70668f6",
   "outputs": [],
   "execution_count": null
  },
  {
   "metadata": {},
   "cell_type": "code",
   "source": [
    "from mlxtend.feature_selection import SequentialFeatureSelector as SFS\n",
    "from sklearn.metrics import accuracy_score\n",
    "\n",
    "sfs = SFS(model,\n",
    "          k_features = 'best',\n",
    "          forward = True,\n",
    "          floating = False,\n",
    "          scoring = 'accuracy',\n",
    "          cv = 2)\n",
    "\n",
    "sfs = sfs.fit(df[predictors], df[outcome])\n",
    "\n",
    "print(f\"Selected features: {list(sfs.k_feature_names_)}\")\n",
    "print(f'Score: {sfs.k_score_}')"
   ],
   "id": "f915ef654d9973bc",
   "outputs": [],
   "execution_count": null
  },
  {
   "metadata": {},
   "cell_type": "code",
   "source": "print(f'Naive rule: {df[outcome].sum() / df.shape[0]}')",
   "id": "5f520cc01f0c2cc4",
   "outputs": [],
   "execution_count": null
  }
 ],
 "metadata": {
  "kernelspec": {
   "display_name": "Python 3",
   "language": "python",
   "name": "python3"
  },
  "language_info": {
   "codemirror_mode": {
    "name": "ipython",
    "version": 2
   },
   "file_extension": ".py",
   "mimetype": "text/x-python",
   "name": "python",
   "nbconvert_exporter": "python",
   "pygments_lexer": "ipython2",
   "version": "2.7.6"
  }
 },
 "nbformat": 4,
 "nbformat_minor": 5
}
