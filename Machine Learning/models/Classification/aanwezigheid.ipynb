{
 "cells": [
  {
   "metadata": {},
   "cell_type": "code",
   "source": [
    "import pandas as pd\n",
    "import matplotlib.pyplot as plt\n",
    "import seaborn as sns\n",
    "from sklearn.linear_model import LogisticRegression\n",
    "\n",
    "from feature_selectors import selection\n",
    "from sklearn.preprocessing import StandardScaler"
   ],
   "id": "58b418fc34724445",
   "outputs": [],
   "execution_count": null
  },
  {
   "metadata": {},
   "cell_type": "code",
   "source": [
    "gebruikers_df = pd.read_csv(r'..\\..\\data\\gebruikersinformatie.csv', delimiter = ';')\n",
    "evenement_df = pd.read_csv(r'..\\..\\data\\evenementinformatie.csv', delimiter = ';')\n",
    "aanwezigheid_df = pd.read_csv(r'..\\..\\data\\evenementaanwezigheid.csv', delimiter = ';')\n",
    "bericht_df = pd.read_csv(r'..\\..\\data\\berichtinteracties_met_sentiment.csv', delimiter = ';')"
   ],
   "id": "88aab4efd729058d",
   "outputs": [],
   "execution_count": null
  },
  {
   "metadata": {},
   "cell_type": "code",
   "source": [
    "# Merge aanwezigheid_df with evenement_df\n",
    "aanwezigheid_df = aanwezigheid_df.merge(evenement_df, on = \"EvenementID\", how = \"left\")\n",
    "\n",
    "# Merge the result with gebruikers_df\n",
    "aanwezigheid_df = aanwezigheid_df.merge(gebruikers_df, on = \"GebruikerID\", how = \"left\")\n",
    "\n",
    "# Rename columns for consistency\n",
    "aanwezigheid_df.rename(\n",
    "    columns = {col: f\"Evenement_{col}\" for col in evenement_df.columns if col != \"EvenementID\"},\n",
    "    inplace = True\n",
    ")\n",
    "\n",
    "aanwezigheid_df.rename(\n",
    "    columns = {col: f\"Gebruiker_{col}\" for col in gebruikers_df.columns if col != \"GebruikerID\"},\n",
    "    inplace = True\n",
    ")\n",
    "\n",
    "aanwezigheid_df"
   ],
   "id": "a10ad5b92501aac3",
   "outputs": [],
   "execution_count": null
  },
  {
   "metadata": {},
   "cell_type": "code",
   "source": [
    "# Remove nonvalid entries\n",
    "aanwezigheid_df = aanwezigheid_df[~(aanwezigheid_df['Gebruiker_Leeftijd'].isna())]\n",
    "aanwezigheid_df = aanwezigheid_df[~(aanwezigheid_df['Gebruiker_Lidmaatschapstype'] == 'x')]\n",
    "aanwezigheid_df"
   ],
   "id": "93c611538925453c",
   "outputs": [],
   "execution_count": null
  },
  {
   "metadata": {},
   "cell_type": "code",
   "source": [
    "# Convert ID to ints\n",
    "to_convert = [\"EvenementID\", \"GebruikerID\", \"Evenement_OrganisatorID\"]\n",
    "\n",
    "for col in to_convert:\n",
    "    aanwezigheid_df[col] = aanwezigheid_df[col].str[1:].astype(int)\n",
    "    \n",
    "aanwezigheid_df"
   ],
   "id": "e6c11c59898e947e",
   "outputs": [],
   "execution_count": null
  },
  {
   "metadata": {},
   "cell_type": "code",
   "source": [
    "# Factorize\n",
    "to_factorize = [\"Aanwezigheidsstatus\", \"Evenement_EvenementType\", \"Gebruiker_Studierichting\",\n",
    "                \"Gebruiker_Lidmaatschapstype\"]\n",
    "\n",
    "for col in to_factorize:\n",
    "    aanwezigheid_df[col], unique_values = pd.factorize(aanwezigheid_df[col])\n",
    "\n",
    "    print(f\"\\n{col} numerics:\")\n",
    "    for i, value in enumerate(unique_values):\n",
    "        print(f\"{i} -> {value}\")\n",
    "\n",
    "aanwezigheid_df[\"Gebruiker_Studiejaar\"] = aanwezigheid_df[\"Gebruiker_Studiejaar\"].map({\n",
    "    \"Eerstejaars\": 1,\n",
    "    \"Tweedejaars\": 2,\n",
    "    \"Derdejaars\": 3,\n",
    "    \"Vierdejaars\": 4\n",
    "})\n",
    "\n",
    "aanwezigheid_df"
   ],
   "id": "96b51d40d2d4b2b0",
   "outputs": [],
   "execution_count": null
  },
  {
   "metadata": {},
   "cell_type": "code",
   "source": [
    "# Convert columns to datetime datatype and extract day/month/year\n",
    "date_columns = ['Evenement_EvenementDatum', 'Gebruiker_RegistratieDatum', 'Gebruiker_LaatsteLogin']\n",
    "\n",
    "for col in date_columns:\n",
    "    aanwezigheid_df[col] = pd.to_datetime(aanwezigheid_df[col], dayfirst=True)\n",
    "    \n",
    "for col in date_columns:\n",
    "    aanwezigheid_df[f'{col}_day'] = aanwezigheid_df[col].dt.day\n",
    "    aanwezigheid_df[f'{col}_month'] = aanwezigheid_df[col].dt.month\n",
    "    aanwezigheid_df[f'{col}_year'] = aanwezigheid_df[col].dt.year\n",
    "    \n",
    "aanwezigheid_df.drop(columns = date_columns, inplace = True)\n",
    "\n",
    "aanwezigheid_df"
   ],
   "id": "69f1592c2a40f0ff",
   "outputs": [],
   "execution_count": null
  },
  {
   "metadata": {},
   "cell_type": "code",
   "source": [
    "plt.figure(figsize = (20, 8))\n",
    "sns.heatmap(aanwezigheid_df.corr(), annot = True)\n",
    "plt.show()"
   ],
   "id": "b3189c80e67d02",
   "outputs": [],
   "execution_count": null
  },
  {
   "metadata": {},
   "cell_type": "code",
   "source": [
    "# Try predicting Aanwezigheidsstatus (0 = aanwezig, 1 = afwezig)\n",
    "aanwezigheid_df['Aanwezigheidsstatus'] = aanwezigheid_df['Aanwezigheidsstatus'].replace(2, 1)\n",
    "\n",
    "all_predictors = aanwezigheid_df.columns.tolist()\n",
    "outcome = 'Aanwezigheidsstatus'\n",
    "\n",
    "all_predictors.remove(outcome)\n",
    "all_predictors.remove('EvenementID')\n",
    "all_predictors.remove('GebruikerID')\n",
    "\n",
    "model = LogisticRegression()\n",
    "predictors, score = selection(model, aanwezigheid_df, aanwezigheid_df[outcome], all_predictors, mode = 'forward',\n",
    "                              metric = 'f1')"
   ],
   "id": "cf649df4f68367a3",
   "outputs": [],
   "execution_count": null
  },
  {
   "metadata": {},
   "cell_type": "code",
   "source": [
    "# Test all outcomes to see which has the highest score\n",
    "model = LinearRegression()\n",
    "results = {}\n",
    "\n",
    "for outcome in aanwezigheid_df.columns.tolist():\n",
    "    test_predictors = aanwezigheid_df.columns.tolist()\n",
    "    test_predictors.remove(outcome)\n",
    "\n",
    "    predictors, score = selection(model, aanwezigheid_df, aanwezigheid_df[outcome], test_predictors, mode = \"forward\",\n",
    "                                  metric = \"adj_r2\")\n",
    "\n",
    "    # results[outcome] = (score, predictors)\n",
    "    results[outcome] = score\n",
    "    \n",
    "print('\\n\\nOutcome\\t\\t\\tScore')\n",
    "for key, value in results.items():\n",
    "    # print(f'{key} -> {value[0]}')\n",
    "    print(f'{key} -> {value}')"
   ],
   "id": "643db8502f8ca110",
   "outputs": [],
   "execution_count": null
  }
 ],
 "metadata": {
  "kernelspec": {
   "display_name": "Python 3",
   "language": "python",
   "name": "python3"
  },
  "language_info": {
   "codemirror_mode": {
    "name": "ipython",
    "version": 2
   },
   "file_extension": ".py",
   "mimetype": "text/x-python",
   "name": "python",
   "nbconvert_exporter": "python",
   "pygments_lexer": "ipython2",
   "version": "2.7.6"
  }
 },
 "nbformat": 4,
 "nbformat_minor": 5
}
