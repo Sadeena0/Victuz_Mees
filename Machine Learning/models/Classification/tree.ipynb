{
 "cells": [
  {
   "cell_type": "code",
   "id": "initial_id",
   "metadata": {
    "collapsed": true
   },
   "source": [
    "import pandas as pd\n",
    "import matplotlib.pyplot as plt\n",
    "import seaborn as sns\n",
    "from sklearn.linear_model import LogisticRegression\n",
    "from sklearn.neighbors import KNeighborsClassifier\n",
    "\n",
    "from feature_selectors import *\n",
    "from sklearn.neighbors import KNeighborsClassifier\n",
    "from sklearn.preprocessing import StandardScaler\n",
    "from sklearn.tree import DecisionTreeClassifier\n",
    "from sklearn.tree import plot_tree"
   ],
   "outputs": [],
   "execution_count": null
  },
  {
   "metadata": {},
   "cell_type": "code",
   "source": [
    "gebruikers_df = pd.read_csv(r'..\\..\\data\\gebruikersinformatie.csv', delimiter = ';')\n",
    "evenement_df = pd.read_csv(r'..\\..\\data\\evenementinformatie.csv', delimiter = ';')\n",
    "aanwezigheid_df = pd.read_csv(r'..\\..\\data\\evenementaanwezigheid.csv', delimiter = ';')"
   ],
   "id": "f433ddfb8a7dc5d7",
   "outputs": [],
   "execution_count": null
  },
  {
   "metadata": {},
   "cell_type": "code",
   "source": [
    "df = merge_on_aanwezigheid(aanwezigheid_df, evenement_df, gebruikers_df)\n",
    "\n",
    "df"
   ],
   "id": "7b835de78ceecfa6",
   "outputs": [],
   "execution_count": null
  },
  {
   "metadata": {},
   "cell_type": "code",
   "source": [
    "# Remove nonvalid entries\n",
    "for col in df.columns:\n",
    "    df = df[~(df[col].isna())]\n",
    "\n",
    "df = df[~(df['Gebruiker_Lidmaatschapstype'] == 'x')]\n",
    "df"
   ],
   "id": "be39b8eac4189bb8",
   "outputs": [],
   "execution_count": null
  },
  {
   "metadata": {},
   "cell_type": "code",
   "source": [
    "# Convert ID to ints\n",
    "to_convert = [\"BerichtID\", \"EvenementID\", \"GebruikerID\", \"Evenement_OrganisatorID\"]\n",
    "\n",
    "for col in to_convert:\n",
    "    if col in df.columns:\n",
    "        df[col] = df[col].str[1:].astype(int)\n",
    "    \n",
    "df"
   ],
   "id": "5b35848395b8d7ea",
   "outputs": [],
   "execution_count": null
  },
  {
   "metadata": {},
   "cell_type": "code",
   "source": [
    "# Factorize\n",
    "to_factorize = [\"Aanwezigheidsstatus\", \"Gebruiker_Lidmaatschapstype\"]\n",
    "\n",
    "for col in to_factorize:\n",
    "    df[col], unique_values = pd.factorize(df[col])\n",
    "\n",
    "    print(f\"\\n{col} numerics:\")\n",
    "    for i, value in enumerate(unique_values):\n",
    "        print(f\"{i} -> {value}\")\n",
    "\n",
    "\n",
    "df['Gebruiker_Lidmaatschapstype'] = df['Gebruiker_Lidmaatschapstype'].astype(bool)\n",
    "\n",
    "# Factorize studiejaar with map\n",
    "df[\"Gebruiker_Studiejaar\"] = df[\"Gebruiker_Studiejaar\"].map({\n",
    "    \"eerstejaars\": 1,\n",
    "    \"tweedejaars\": 2,\n",
    "    \"derdejaars\": 3,\n",
    "    \"vierdejaars\": 4\n",
    "})\n",
    "\n",
    "# Aanwezigheidsstatus (0 = afwezig, 1 = aanwezig)\n",
    "df['Aanwezigheidsstatus'] = ~df['Aanwezigheidsstatus'].replace(2, 1).astype('bool', )\n",
    "\n",
    "df"
   ],
   "id": "206c30e5392acb2",
   "outputs": [],
   "execution_count": null
  },
  {
   "metadata": {},
   "cell_type": "code",
   "source": [
    "# Dummies from evenemnttype and studierichting\n",
    "df = pd.concat([df, pd.get_dummies(df['Evenement_EvenementType'], prefix = 'Evenement_EvenementType')], axis = 1)\n",
    "df = pd.concat([df, pd.get_dummies(df['Gebruiker_Studierichting'], prefix = 'Gebruiker_Studierichting')], axis = 1)\n",
    "df.drop(columns = ['Evenement_EvenementType', 'Gebruiker_Studierichting'], axis = 1, inplace = True)\n",
    "\n",
    "df"
   ],
   "id": "5c7d29ed56daf9c4",
   "outputs": [],
   "execution_count": null
  },
  {
   "metadata": {},
   "cell_type": "code",
   "source": [
    "# Convert columns to datetime datatype\n",
    "date_columns = ['Evenement_EvenementDatum', 'Gebruiker_RegistratieDatum', 'Gebruiker_LaatsteLogin']\n",
    "\n",
    "for col in date_columns:\n",
    "    df[col] = pd.to_datetime(df[col], dayfirst = True)\n",
    "\n",
    "# Extract date/month/year from datetime columns\n",
    "for col in date_columns:\n",
    "    df[f'{col}_is_weekend'] = df[col].dt.weekday >= 5\n",
    "    df[f'{col}_month'] = df[col].dt.month\n",
    "    # df[f'{col}_year'] = df[col].dt.year\n",
    "\n",
    "df.drop(columns = date_columns, inplace = True)\n",
    "\n",
    "df"
   ],
   "id": "15bab2befaa5238a",
   "outputs": [],
   "execution_count": null
  },
  {
   "metadata": {},
   "cell_type": "code",
   "source": [
    "def get_all_predictors():\n",
    "    all_predictors = df.columns.tolist()\n",
    "    all_predictors.remove('EvenementID')\n",
    "    all_predictors.remove('GebruikerID')\n",
    "    all_predictors.remove('Evenement_OrganisatorID')\n",
    "\n",
    "    return all_predictors"
   ],
   "id": "74e31b8524bc15f4",
   "outputs": [],
   "execution_count": null
  },
  {
   "metadata": {},
   "cell_type": "code",
   "source": [
    "model = DecisionTreeClassifier(random_state = 1, max_depth = 1)\n",
    "\n",
    "outcome = 'Aanwezigheidsstatus'\n",
    "all_predictors = get_all_predictors()\n",
    "sub_df = df[df['GebruikerID'] == 1]\n",
    "\n",
    "X = sub_df[all_predictors].drop(columns = [col for col in sub_df.columns if col.startswith('Gebruiker_')], axis = 1)\n",
    "X.drop(outcome, axis = 1, inplace = True)\n",
    "\n",
    "Y = sub_df[outcome]\n",
    "tree = model.fit(X, Y)\n",
    "\n",
    "plot_tree(tree, feature_names = X.columns, class_names = list(map(str, tree.classes_)), fontsize = 7)"
   ],
   "id": "b4693024f9db943a",
   "outputs": [],
   "execution_count": null
  }
 ],
 "metadata": {
  "kernelspec": {
   "display_name": "Python 3",
   "language": "python",
   "name": "python3"
  },
  "language_info": {
   "codemirror_mode": {
    "name": "ipython",
    "version": 2
   },
   "file_extension": ".py",
   "mimetype": "text/x-python",
   "name": "python",
   "nbconvert_exporter": "python",
   "pygments_lexer": "ipython2",
   "version": "2.7.6"
  }
 },
 "nbformat": 4,
 "nbformat_minor": 5
}
