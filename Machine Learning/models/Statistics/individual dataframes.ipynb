{
 "cells": [
  {
   "cell_type": "code",
   "id": "initial_id",
   "metadata": {
    "collapsed": true
   },
   "source": "import pandas as pd",
   "outputs": [],
   "execution_count": null
  },
  {
   "metadata": {},
   "cell_type": "code",
   "source": [
    "gebruikers_df = pd.read_csv(r'..\\data\\gebruikersinformatie.csv', delimiter = ';')\n",
    "evenement_df = pd.read_csv(r'..\\data\\evenementinformatie.csv', delimiter = ';')\n",
    "aanwezigheid_df = pd.read_csv(r'..\\data\\evenementaanwezigheid.csv', delimiter = ';')\n",
    "bericht_df = pd.read_csv(r'..\\data\\berichtinteracties_met_sentiment.csv', delimiter = ';')"
   ],
   "id": "3ff701d19d3ec959",
   "outputs": [],
   "execution_count": null
  },
  {
   "metadata": {},
   "cell_type": "code",
   "source": [
    "dataframes = [gebruikers_df, evenement_df, aanwezigheid_df, bericht_df]\n",
    "for frame in dataframes:\n",
    "    for col in frame.columns:\n",
    "        frame = frame[~(frame[col].isna())]\n",
    "    frame = frame.apply(lambda col: col.str.lower() if col.dtype == 'object' else col)\n",
    "\n",
    "gebruikers_df = gebruikers_df[~(gebruikers_df['Lidmaatschapstype'] == 'x')]"
   ],
   "id": "38f34675e5f5c207",
   "outputs": [],
   "execution_count": null
  },
  {
   "metadata": {},
   "cell_type": "code",
   "source": [
    "for frame in dataframes:\n",
    "    print(frame.describe(include='all'))"
   ],
   "id": "7c90c8d86daaf5eb",
   "outputs": [],
   "execution_count": null
  },
  {
   "metadata": {},
   "cell_type": "code",
   "source": [
    "for frame in dataframes:\n",
    "    frame = frame.astype(str)\n",
    "\n",
    "column_dataframes = {}\n",
    "\n",
    "\n",
    "for column in gebruikers_df.columns:\n",
    "\n",
    "    percentage_df = gebruikers_df[column].value_counts(normalize=True).mul(100).reset_index()\n",
    "    percentage_df.columns = [column, 'Percentage']\n",
    "    column_dataframes[column] = percentage_df\n"
   ],
   "id": "326b042b71892ea4",
   "outputs": [],
   "execution_count": null
  },
  {
   "metadata": {},
   "cell_type": "code",
   "source": "column_dataframes['Leeftijd']",
   "id": "21ed84a2baea779e",
   "outputs": [],
   "execution_count": null
  },
  {
   "metadata": {},
   "cell_type": "code",
   "source": "column_dataframes['Studierichting']",
   "id": "5607412ec1cefe0f",
   "outputs": [],
   "execution_count": null
  },
  {
   "metadata": {},
   "cell_type": "code",
   "source": "column_dataframes['Studiejaar']",
   "id": "1ebce0802734f652",
   "outputs": [],
   "execution_count": null
  },
  {
   "metadata": {},
   "cell_type": "code",
   "source": "column_dataframes['Lidmaatschapstype']",
   "id": "46c2f46a6746aeaf",
   "outputs": [],
   "execution_count": null
  },
  {
   "metadata": {},
   "cell_type": "code",
   "source": [
    "for column in evenement_df.columns:\n",
    "\n",
    "    percentage_df = evenement_df[column].value_counts(normalize=True).mul(100).reset_index()\n",
    "    percentage_df.columns = [column, 'Percentage']\n",
    "    column_dataframes[column] = percentage_df"
   ],
   "id": "716a3aa99ea8bcf6",
   "outputs": [],
   "execution_count": null
  },
  {
   "metadata": {},
   "cell_type": "code",
   "source": "column_dataframes['EvenementType']",
   "id": "350ff3958205f343",
   "outputs": [],
   "execution_count": null
  },
  {
   "metadata": {},
   "cell_type": "code",
   "source": [
    "for column in aanwezigheid_df.columns:\n",
    "\n",
    "    percentage_df = aanwezigheid_df[column].value_counts(normalize=True).mul(100).reset_index()\n",
    "    percentage_df.columns = [column, 'Percentage']\n",
    "    column_dataframes[column] = percentage_df"
   ],
   "id": "951fd2b3865cfb65",
   "outputs": [],
   "execution_count": null
  },
  {
   "metadata": {},
   "cell_type": "code",
   "source": "column_dataframes['Aanwezigheidsstatus']",
   "id": "2f73ee321d0873ac",
   "outputs": [],
   "execution_count": null
  },
  {
   "metadata": {},
   "cell_type": "code",
   "source": [
    "for column in bericht_df.columns:\n",
    "\n",
    "    percentage_df = bericht_df[column].value_counts(normalize=True).mul(100).reset_index()\n",
    "    percentage_df.columns = [column, 'Percentage']\n",
    "    column_dataframes[column] = percentage_df"
   ],
   "id": "3e649ad9b5eed2bd",
   "outputs": [],
   "execution_count": null
  },
  {
   "metadata": {},
   "cell_type": "code",
   "source": "column_dataframes['BerichtSentiment']",
   "id": "2c58c0f0d1fc0bd",
   "outputs": [],
   "execution_count": null
  },
  {
   "metadata": {},
   "cell_type": "code",
   "source": "column_dataframes['OntvangenLikes']",
   "id": "ad30ccf0bfca791b",
   "outputs": [],
   "execution_count": null
  },
  {
   "metadata": {},
   "cell_type": "code",
   "source": "column_dataframes['OntvangenReacties']",
   "id": "d874e38598d973ef",
   "outputs": [],
   "execution_count": null
  },
  {
   "metadata": {},
   "cell_type": "code",
   "source": "",
   "id": "88d7b91943546cb",
   "outputs": [],
   "execution_count": null
  }
 ],
 "metadata": {
  "kernelspec": {
   "display_name": "Python 3",
   "language": "python",
   "name": "python3"
  },
  "language_info": {
   "codemirror_mode": {
    "name": "ipython",
    "version": 2
   },
   "file_extension": ".py",
   "mimetype": "text/x-python",
   "name": "python",
   "nbconvert_exporter": "python",
   "pygments_lexer": "ipython2",
   "version": "2.7.6"
  }
 },
 "nbformat": 4,
 "nbformat_minor": 5
}
